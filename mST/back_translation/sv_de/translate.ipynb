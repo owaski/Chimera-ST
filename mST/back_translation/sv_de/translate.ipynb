{
 "cells": [
  {
   "cell_type": "code",
   "execution_count": 1,
   "metadata": {},
   "outputs": [
    {
     "name": "stderr",
     "output_type": "stream",
     "text": [
      "/mnt/nvme/siqi/anaconda3/envs/tts/lib/python3.8/site-packages/tqdm/auto.py:22: TqdmWarning: IProgress not found. Please update jupyter and ipywidgets. See https://ipywidgets.readthedocs.io/en/stable/user_install.html\n",
      "  from .autonotebook import tqdm as notebook_tqdm\n"
     ]
    }
   ],
   "source": [
    "import os\n",
    "import csv\n",
    "\n",
    "import torch as th\n",
    "from tqdm import tqdm\n",
    "import pandas as pd\n",
    "import numpy as np\n",
    "from transformers import AutoTokenizer, AutoModelForSeq2SeqLM\n",
    "\n",
    "from TTS.tts.configs.shared_configs import BaseDatasetConfig\n",
    "from TTS.tts.datasets import load_tts_samples"
   ]
  },
  {
   "cell_type": "code",
   "execution_count": 2,
   "metadata": {},
   "outputs": [],
   "source": [
    "def load_df_from_tsv(path: str):\n",
    "    return pd.read_csv(\n",
    "        path,\n",
    "        sep=\"\\t\",\n",
    "        header=0,\n",
    "        encoding=\"utf-8\",\n",
    "        escapechar=\"\\\\\",\n",
    "        quoting=csv.QUOTE_NONE,\n",
    "        na_filter=False,\n",
    "    )"
   ]
  },
  {
   "cell_type": "code",
   "execution_count": 3,
   "metadata": {},
   "outputs": [],
   "source": [
    "device = 'cuda:0'"
   ]
  },
  {
   "cell_type": "markdown",
   "metadata": {},
   "source": [
    "# Generate German texts translated from English references in train_st_sv-SE_en"
   ]
  },
  {
   "cell_type": "code",
   "execution_count": 4,
   "metadata": {},
   "outputs": [],
   "source": [
    "tokenizer = AutoTokenizer.from_pretrained(\"Helsinki-NLP/opus-mt-en-de\")\n",
    "model = AutoModelForSeq2SeqLM.from_pretrained(\"Helsinki-NLP/opus-mt-en-de\").to(device)"
   ]
  },
  {
   "cell_type": "code",
   "execution_count": 5,
   "metadata": {},
   "outputs": [],
   "source": [
    "input = [\"Hello world.\", \"This is good!\"]\n",
    "tokenized_input = tokenizer(input, padding=True, return_tensors=\"pt\").to(device)\n",
    "output = model.generate(**tokenized_input)\n",
    "translation = tokenizer.batch_decode(output, skip_special_tokens=True)"
   ]
  },
  {
   "cell_type": "code",
   "execution_count": 6,
   "metadata": {},
   "outputs": [
    {
     "data": {
      "text/plain": [
       "['Hallo Welt.', 'Das ist gut!']"
      ]
     },
     "execution_count": 6,
     "metadata": {},
     "output_type": "execute_result"
    }
   ],
   "source": [
    "translation"
   ]
  },
  {
   "cell_type": "code",
   "execution_count": 7,
   "metadata": {},
   "outputs": [],
   "source": [
    "path = '/mnt/raid0/siqi/datasets/covost2/sv-SE/train_st_sv-SE_en.tsv'\n",
    "sv_df = load_df_from_tsv(path)\n",
    "en_ref = sv_df['tgt_text'].tolist()"
   ]
  },
  {
   "cell_type": "code",
   "execution_count": 8,
   "metadata": {},
   "outputs": [
    {
     "name": "stderr",
     "output_type": "stream",
     "text": [
      "100%|██████████| 5/5 [00:11<00:00,  2.32s/it]\n"
     ]
    }
   ],
   "source": [
    "batch_size = 500\n",
    "de_trans = []\n",
    "for idx in tqdm(range(0, len(en_ref), batch_size)):\n",
    "    input = en_ref[idx : idx + batch_size]\n",
    "    tokenized_input = tokenizer(input, padding=True, return_tensors=\"pt\").to(device)\n",
    "    output = model.generate(**tokenized_input)\n",
    "    translation = tokenizer.batch_decode(output, skip_special_tokens=True)\n",
    "    de_trans.extend(translation)"
   ]
  },
  {
   "cell_type": "markdown",
   "metadata": {},
   "source": [
    "# Train TTS model on German texts"
   ]
  },
  {
   "cell_type": "markdown",
   "metadata": {},
   "source": [
    "## Build TTS Dataset (TODO)"
   ]
  },
  {
   "cell_type": "code",
   "execution_count": 10,
   "metadata": {},
   "outputs": [],
   "source": [
    "path = '/mnt/raid0/siqi/datasets/covost2/de/train_st_de_en.tsv'\n",
    "df = load_df_from_tsv(path)\n",
    "de_transcript = df['src_text'].tolist()\n",
    "de_audio = df['audio'].tolist()"
   ]
  },
  {
   "cell_type": "code",
   "execution_count": 12,
   "metadata": {},
   "outputs": [],
   "source": [
    "metadata_path = '/mnt/raid0/siqi/datasets/covost2/de/train_tts_de.txt'\n",
    "with open(metadata_path, 'w') as w:\n",
    "    for transcript, audio in zip(de_transcript, de_audio):\n",
    "        w.write('{}|{}\\n'.format(audio, transcript))"
   ]
  },
  {
   "cell_type": "code",
   "execution_count": 18,
   "metadata": {},
   "outputs": [],
   "source": [
    "de_root = '/mnt/raid0/siqi/datasets/covost2/de'\n",
    "dataset_config = BaseDatasetConfig(\n",
    "    name=\"ljspeech\", meta_file_train='train_tts_de.txt', language=\"de\", path=de_root\n",
    ")"
   ]
  },
  {
   "cell_type": "code",
   "execution_count": 20,
   "metadata": {},
   "outputs": [],
   "source": [
    "def formatter(root_path, manifest_file, **kwargs):  # pylint: disable=unused-argument\n",
    "    \"\"\"Assumes each line as ```<filename>|<transcription>```\n",
    "    \"\"\"\n",
    "    txt_file = os.path.join(root_path, manifest_file)\n",
    "    items = []\n",
    "    speaker_name = \"my_speaker\"\n",
    "    with open(txt_file, \"r\", encoding=\"utf-8\") as ttf:\n",
    "        for line in ttf:\n",
    "            cols = line.split(\"|\")\n",
    "            wav_file = os.path.join(root_path, \"16kHz\", cols[0])\n",
    "            text = cols[1]\n",
    "            items.append({\"text\":text, \"audio_file\":wav_file, \"speaker_name\":speaker_name})\n",
    "    return items"
   ]
  },
  {
   "cell_type": "code",
   "execution_count": 21,
   "metadata": {},
   "outputs": [
    {
     "name": "stdout",
     "output_type": "stream",
     "text": [
      " | > Found 127824 files in /mnt/raid0/siqi/datasets/covost2/de\n"
     ]
    }
   ],
   "source": [
    "train_samples, eval_samples = load_tts_samples(dataset_config, eval_split=True, formatter=formatter)"
   ]
  },
  {
   "cell_type": "code",
   "execution_count": 23,
   "metadata": {},
   "outputs": [
    {
     "data": {
      "text/plain": [
       "(126546, 1278)"
      ]
     },
     "execution_count": 23,
     "metadata": {},
     "output_type": "execute_result"
    }
   ],
   "source": [
    "len(train_samples), len(eval_samples)"
   ]
  },
  {
   "cell_type": "markdown",
   "metadata": {},
   "source": [
    "## Inference with TTS Model"
   ]
  },
  {
   "cell_type": "code",
   "execution_count": 9,
   "metadata": {},
   "outputs": [
    {
     "name": "stderr",
     "output_type": "stream",
     "text": [
      "  0%|          | 0/2160 [00:00<?, ?it/s]usage: tts [-h] [--list_models [LIST_MODELS]] [--text TEXT]\n",
      "           [--model_name MODEL_NAME] [--vocoder_name VOCODER_NAME]\n",
      "           [--config_path CONFIG_PATH] [--model_path MODEL_PATH]\n",
      "           [--out_path OUT_PATH] [--use_cuda USE_CUDA]\n",
      "           [--vocoder_path VOCODER_PATH]\n",
      "           [--vocoder_config_path VOCODER_CONFIG_PATH]\n",
      "           [--encoder_path ENCODER_PATH]\n",
      "           [--encoder_config_path ENCODER_CONFIG_PATH]\n",
      "           [--speakers_file_path SPEAKERS_FILE_PATH]\n",
      "           [--language_ids_file_path LANGUAGE_IDS_FILE_PATH]\n",
      "           [--speaker_idx SPEAKER_IDX] [--language_idx LANGUAGE_IDX]\n",
      "           [--speaker_wav SPEAKER_WAV [SPEAKER_WAV ...]]\n",
      "           [--gst_style GST_STYLE] [--list_speaker_idxs [LIST_SPEAKER_IDXS]]\n",
      "           [--list_language_idxs [LIST_LANGUAGE_IDXS]]\n",
      "           [--save_spectogram SAVE_SPECTOGRAM]\n",
      "tts: error: unrecognized arguments: solltest nicht fliegen!\n",
      "  0%|          | 1/2160 [00:02<1:35:11,  2.65s/it]usage: tts [-h] [--list_models [LIST_MODELS]] [--text TEXT]\n",
      "           [--model_name MODEL_NAME] [--vocoder_name VOCODER_NAME]\n",
      "           [--config_path CONFIG_PATH] [--model_path MODEL_PATH]\n",
      "           [--out_path OUT_PATH] [--use_cuda USE_CUDA]\n",
      "           [--vocoder_path VOCODER_PATH]\n",
      "           [--vocoder_config_path VOCODER_CONFIG_PATH]\n",
      "           [--encoder_path ENCODER_PATH]\n",
      "           [--encoder_config_path ENCODER_CONFIG_PATH]\n",
      "           [--speakers_file_path SPEAKERS_FILE_PATH]\n",
      "           [--language_ids_file_path LANGUAGE_IDS_FILE_PATH]\n",
      "           [--speaker_idx SPEAKER_IDX] [--language_idx LANGUAGE_IDX]\n",
      "           [--speaker_wav SPEAKER_WAV [SPEAKER_WAV ...]]\n",
      "           [--gst_style GST_STYLE] [--list_speaker_idxs [LIST_SPEAKER_IDXS]]\n",
      "           [--list_language_idxs [LIST_LANGUAGE_IDXS]]\n",
      "           [--save_spectogram SAVE_SPECTOGRAM]\n",
      "tts: error: unrecognized arguments: werden in Ordnung sein, bis die Ernte gewachsen ist.\n",
      "  0%|          | 2/2160 [00:05<1:39:47,  2.77s/it]usage: tts [-h] [--list_models [LIST_MODELS]] [--text TEXT]\n",
      "           [--model_name MODEL_NAME] [--vocoder_name VOCODER_NAME]\n",
      "           [--config_path CONFIG_PATH] [--model_path MODEL_PATH]\n",
      "           [--out_path OUT_PATH] [--use_cuda USE_CUDA]\n",
      "           [--vocoder_path VOCODER_PATH]\n",
      "           [--vocoder_config_path VOCODER_CONFIG_PATH]\n",
      "           [--encoder_path ENCODER_PATH]\n",
      "           [--encoder_config_path ENCODER_CONFIG_PATH]\n",
      "           [--speakers_file_path SPEAKERS_FILE_PATH]\n",
      "           [--language_ids_file_path LANGUAGE_IDS_FILE_PATH]\n",
      "           [--speaker_idx SPEAKER_IDX] [--language_idx LANGUAGE_IDX]\n",
      "           [--speaker_wav SPEAKER_WAV [SPEAKER_WAV ...]]\n",
      "           [--gst_style GST_STYLE] [--list_speaker_idxs [LIST_SPEAKER_IDXS]]\n",
      "           [--list_language_idxs [LIST_LANGUAGE_IDXS]]\n",
      "           [--save_spectogram SAVE_SPECTOGRAM]\n",
      "tts: error: unrecognized arguments: ich bin nur glücklich.\n",
      "  0%|          | 3/2160 [00:08<1:39:09,  2.76s/it]usage: tts [-h] [--list_models [LIST_MODELS]] [--text TEXT]\n",
      "           [--model_name MODEL_NAME] [--vocoder_name VOCODER_NAME]\n",
      "           [--config_path CONFIG_PATH] [--model_path MODEL_PATH]\n",
      "           [--out_path OUT_PATH] [--use_cuda USE_CUDA]\n",
      "           [--vocoder_path VOCODER_PATH]\n",
      "           [--vocoder_config_path VOCODER_CONFIG_PATH]\n",
      "           [--encoder_path ENCODER_PATH]\n",
      "           [--encoder_config_path ENCODER_CONFIG_PATH]\n",
      "           [--speakers_file_path SPEAKERS_FILE_PATH]\n",
      "           [--language_ids_file_path LANGUAGE_IDS_FILE_PATH]\n",
      "           [--speaker_idx SPEAKER_IDX] [--language_idx LANGUAGE_IDX]\n",
      "           [--speaker_wav SPEAKER_WAV [SPEAKER_WAV ...]]\n",
      "           [--gst_style GST_STYLE] [--list_speaker_idxs [LIST_SPEAKER_IDXS]]\n",
      "           [--list_language_idxs [LIST_LANGUAGE_IDXS]]\n",
      "           [--save_spectogram SAVE_SPECTOGRAM]\n",
      "tts: error: unrecognized arguments: habe keine Aufmerksamkeit gesucht.\n",
      "  0%|          | 4/2160 [00:10<1:37:42,  2.72s/it]usage: tts [-h] [--list_models [LIST_MODELS]] [--text TEXT]\n",
      "           [--model_name MODEL_NAME] [--vocoder_name VOCODER_NAME]\n",
      "           [--config_path CONFIG_PATH] [--model_path MODEL_PATH]\n",
      "           [--out_path OUT_PATH] [--use_cuda USE_CUDA]\n",
      "           [--vocoder_path VOCODER_PATH]\n",
      "           [--vocoder_config_path VOCODER_CONFIG_PATH]\n",
      "           [--encoder_path ENCODER_PATH]\n",
      "           [--encoder_config_path ENCODER_CONFIG_PATH]\n",
      "           [--speakers_file_path SPEAKERS_FILE_PATH]\n",
      "           [--language_ids_file_path LANGUAGE_IDS_FILE_PATH]\n",
      "           [--speaker_idx SPEAKER_IDX] [--language_idx LANGUAGE_IDX]\n",
      "           [--speaker_wav SPEAKER_WAV [SPEAKER_WAV ...]]\n",
      "           [--gst_style GST_STYLE] [--list_speaker_idxs [LIST_SPEAKER_IDXS]]\n",
      "           [--list_language_idxs [LIST_LANGUAGE_IDXS]]\n",
      "           [--save_spectogram SAVE_SPECTOGRAM]\n",
      "tts: error: unrecognized arguments: du nicht bezahlt hast?\n",
      "  0%|          | 5/2160 [00:13<1:37:15,  2.71s/it]usage: tts [-h] [--list_models [LIST_MODELS]] [--text TEXT]\n",
      "           [--model_name MODEL_NAME] [--vocoder_name VOCODER_NAME]\n",
      "           [--config_path CONFIG_PATH] [--model_path MODEL_PATH]\n",
      "           [--out_path OUT_PATH] [--use_cuda USE_CUDA]\n",
      "           [--vocoder_path VOCODER_PATH]\n",
      "           [--vocoder_config_path VOCODER_CONFIG_PATH]\n",
      "           [--encoder_path ENCODER_PATH]\n",
      "           [--encoder_config_path ENCODER_CONFIG_PATH]\n",
      "           [--speakers_file_path SPEAKERS_FILE_PATH]\n",
      "           [--language_ids_file_path LANGUAGE_IDS_FILE_PATH]\n",
      "           [--speaker_idx SPEAKER_IDX] [--language_idx LANGUAGE_IDX]\n",
      "           [--speaker_wav SPEAKER_WAV [SPEAKER_WAV ...]]\n",
      "           [--gst_style GST_STYLE] [--list_speaker_idxs [LIST_SPEAKER_IDXS]]\n",
      "           [--list_language_idxs [LIST_LANGUAGE_IDXS]]\n",
      "           [--save_spectogram SAVE_SPECTOGRAM]\n",
      "tts: error: unrecognized arguments: sollten wir es einlösen.\n",
      "  0%|          | 6/2160 [00:16<1:36:34,  2.69s/it]"
     ]
    }
   ],
   "source": [
    "dest_dir = '/mnt/raid0/siqi/datasets/covost2/sv-SE/16kHz_de'\n",
    "sv_audio = sv_df['audio'].tolist()\n",
    "for de, audio in tqdm(zip(de_trans, sv_audio), total=len(de_trans)):\n",
    "    os.system('tts --text \"{}\" --model_name tts_models/de/thorsten/tacotron2-DCA --out_path {}'.format(\n",
    "        de, os.path.join(dest_dir, audio)\n",
    "    ))"
   ]
  },
  {
   "cell_type": "code",
   "execution_count": null,
   "metadata": {},
   "outputs": [],
   "source": []
  }
 ],
 "metadata": {
  "interpreter": {
   "hash": "a68cd4a7ef308fe1097ac63f4e85e531ee114d7b566f56457f8a7bdc63a1a0bb"
  },
  "kernelspec": {
   "display_name": "Python 3.9.7 ('st')",
   "language": "python",
   "name": "python3"
  },
  "language_info": {
   "codemirror_mode": {
    "name": "ipython",
    "version": 3
   },
   "file_extension": ".py",
   "mimetype": "text/x-python",
   "name": "python",
   "nbconvert_exporter": "python",
   "pygments_lexer": "ipython3",
   "version": "3.8.13"
  },
  "orig_nbformat": 4
 },
 "nbformat": 4,
 "nbformat_minor": 2
}

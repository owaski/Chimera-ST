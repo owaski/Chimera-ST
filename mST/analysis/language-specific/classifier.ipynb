{
 "cells": [
  {
   "cell_type": "code",
   "execution_count": 63,
   "metadata": {},
   "outputs": [],
   "source": [
    "import os\n",
    "import random\n",
    "from argparse import Namespace\n",
    "import copy\n",
    "\n",
    "import torch as th\n",
    "import torch.nn as nn\n",
    "import torch.nn.functional as F\n",
    "from torch.utils.data import Dataset, Sampler, DataLoader\n",
    "from tqdm import tqdm\n",
    "import numpy as np\n",
    "from sklearn.manifold import TSNE\n",
    "import matplotlib as mp\n",
    "import matplotlib.pyplot as plt\n",
    "import matplotlib.colors as colors\n",
    "import umap\n",
    "import scipy\n",
    "\n",
    "from fairseq.modules import TransformerEncoderLayer"
   ]
  },
  {
   "cell_type": "markdown",
   "metadata": {},
   "source": [
    "```bash\n",
    "export SRC_LANG=it; CUDA_VISIBLE_DEVICES=6 fairseq-generate ${COVOST2_ROOT} --gen-subset ${SRC_LANG}_en_test \\\n",
    "  --task multilingual_speech_to_text --path /mnt/raid0/siqi/checkpoints/xlsr_mbart_n1_adv/checkpoint_best.pt \\\n",
    "  --prefix-size 1 --max-tokens 800000 --max-source-positions 800000 --beam 4 --scoring sacrebleu \\\n",
    "  --config-yaml config_mST.yaml --lenpen 1.0 --max-len-a 0 --max-len-b 1\n",
    "```"
   ]
  },
  {
   "cell_type": "code",
   "execution_count": 2,
   "metadata": {},
   "outputs": [],
   "source": [
    "langs = [\"fr\", \"de\", \"es\", \"it\", \"ru\", \"pt\", \"nl\", \"sv-SE\"] # , \"sl\"] # \"zh-CN\", \"pt\", \"fa\", \"et\", \"mn\", \"nl\",\n",
    "         # \"tr\", \"ar\", \"sv-SE\", \"lv\", \"sl\", \"ta\", \"ja\", \"id\"]\n",
    "device = 'cuda:0'"
   ]
  },
  {
   "cell_type": "code",
   "execution_count": 42,
   "metadata": {},
   "outputs": [],
   "source": [
    "class MyDataset(Dataset):\n",
    "    def __init__(self, langs):\n",
    "        self.langs = langs\n",
    "        self.data = []\n",
    "        self.labels = []\n",
    "        for lang_id, lang in enumerate(langs):\n",
    "            for batch_idx in tqdm(os.listdir('/mnt/raid0/siqi/analysis/resources-adv/{}'.format(lang)), desc='Lang {}'.format(lang)):\n",
    "                encoder_out = th.load('/mnt/raid0/siqi/analysis/resources-adv/{}/{}'.format(lang, batch_idx), map_location='cpu')[0]\n",
    "                x = encoder_out.encoder_out\n",
    "                padding_mask = encoder_out.encoder_padding_mask\n",
    "                bsz, seqlen = padding_mask.size()\n",
    "                for i in range(bsz):\n",
    "                    x_i = x[:, i, :][~padding_mask[i]]\n",
    "                    y_i = lang_id\n",
    "                    self.data.append(x_i)\n",
    "                    self.labels.append(y_i)\n",
    "\n",
    "    def __getitem__(self, idx):\n",
    "        return self.data[idx], self.labels[idx]\n",
    "\n",
    "    def __len__(self):\n",
    "        return len(self.data)\n",
    "    \n",
    "    def collate(self, indices):\n",
    "        inputs = []\n",
    "        labels = []\n",
    "\n",
    "        batch = [self[idx] for idx in indices]\n",
    "        max_len = max(data.size(0) for data, _ in batch)\n",
    "        padding_mask = th.zeros(len(batch), max_len).bool()\n",
    "        for i, (data, label) in enumerate(batch):\n",
    "            if data.size(0) < max_len:\n",
    "                padding_mask[i, -(max_len - data.size(0)):] = True\n",
    "                zeros = th.zeros(max_len - data.size(0), data.size(-1))\n",
    "                inputs.append(th.cat([data, zeros], dim=0).unsqueeze(1))\n",
    "            else:\n",
    "                inputs.append(data.unsqueeze(1))\n",
    "            labels.append(label)\n",
    "\n",
    "        inputs = th.cat(inputs, dim=1)\n",
    "        labels = th.LongTensor(labels)\n",
    "\n",
    "        return inputs.to(device), padding_mask.to(device), labels.to(device)\n"
   ]
  },
  {
   "cell_type": "code",
   "execution_count": 43,
   "metadata": {},
   "outputs": [
    {
     "name": "stderr",
     "output_type": "stream",
     "text": [
      "Lang fr: 100%|██████████| 867/867 [02:00<00:00,  7.18it/s]\n",
      "Lang de: 100%|██████████| 812/812 [01:47<00:00,  7.59it/s]\n",
      "Lang es: 100%|██████████| 866/866 [01:52<00:00,  7.72it/s]\n",
      "Lang it: 100%|██████████| 590/590 [01:15<00:00,  7.84it/s]\n",
      "Lang ru: 100%|██████████| 406/406 [00:51<00:00,  7.87it/s]\n",
      "Lang pt: 100%|██████████| 188/188 [00:25<00:00,  7.26it/s]\n",
      "Lang nl: 100%|██████████| 71/71 [00:09<00:00,  7.15it/s]\n",
      "Lang sv-SE: 100%|██████████| 52/52 [00:07<00:00,  6.86it/s]\n"
     ]
    }
   ],
   "source": [
    "dataset = MyDataset(langs)"
   ]
  },
  {
   "cell_type": "code",
   "execution_count": 44,
   "metadata": {},
   "outputs": [],
   "source": [
    "th.save(dataset, '/mnt/raid0/siqi/analysis/adv_dataset.pt')"
   ]
  },
  {
   "cell_type": "code",
   "execution_count": 45,
   "metadata": {},
   "outputs": [],
   "source": [
    "std_dataset = th.load('/mnt/raid0/siqi/analysis/std_dataset.pt')\n",
    "adv_dataset = th.load('/mnt/raid0/siqi/analysis/adv_dataset.pt')"
   ]
  },
  {
   "cell_type": "code",
   "execution_count": 47,
   "metadata": {},
   "outputs": [],
   "source": [
    "class BatchSampler(Sampler):\n",
    "    def __init__(self, dataset, batch_size):\n",
    "        super().__init__(dataset)\n",
    "        self.dataset = dataset\n",
    "        self.seqlens = [dataset[i][0].size(0) for i in range(len(dataset))]\n",
    "        self.sorted_indices = sorted(zip(self.seqlens, range(len(dataset))))\n",
    "        self.batch_size = batch_size\n",
    "\n",
    "        self.all_batch_indices = []\n",
    "        sum_len = 0\n",
    "        batch_indices = []\n",
    "        for i, seqlen in enumerate(self.seqlens):\n",
    "            if sum_len + seqlen <= batch_size:\n",
    "                sum_len += seqlen\n",
    "                batch_indices.append(self.sorted_indices[i][1])\n",
    "            else:\n",
    "                self.all_batch_indices.append(batch_indices)\n",
    "                sum_len = seqlen\n",
    "                batch_indices = [self.sorted_indices[i][1]]\n",
    "        if sum_len > 0:\n",
    "            self.all_batch_indices.append(batch_indices)\n",
    "            \n",
    "    def __len__(self):\n",
    "        return len(self.all_batch_indices)\n",
    "\n",
    "    def __iter__(self):\n",
    "        permuted_all_batch_indices = copy.deepcopy(self.all_batch_indices)\n",
    "        random.shuffle(permuted_all_batch_indices)\n",
    "        for batch_indices in permuted_all_batch_indices:\n",
    "            yield self.dataset.collate(batch_indices)"
   ]
  },
  {
   "cell_type": "code",
   "execution_count": 48,
   "metadata": {},
   "outputs": [],
   "source": [
    "batch_sampler = BatchSampler(adv_dataset, 10000)"
   ]
  },
  {
   "cell_type": "code",
   "execution_count": 61,
   "metadata": {},
   "outputs": [],
   "source": [
    "class Classifier(nn.Module):\n",
    "    def __init__(self, nlayer, ndim, nhid, nhead, nclass, drop=0.1) -> None:\n",
    "        super().__init__()\n",
    "        \n",
    "        args = {\n",
    "            'encoder_embed_dim': ndim,\n",
    "            'encoder_attention_heads': nhead,\n",
    "            'attention_dropout': drop,\n",
    "            'dropout': drop,\n",
    "            'activation_dropout': drop,\n",
    "            'encoder_normalize_before': True,\n",
    "            'encoder_ffn_embed_dim': nhid, \n",
    "        }\n",
    "        args = Namespace(**args)\n",
    "\n",
    "        self.layers = nn.ModuleList(\n",
    "            [TransformerEncoderLayer(args) for _ in range(nlayer)]\n",
    "        )\n",
    "        self.linear = nn.Linear(ndim, nclass)\n",
    "\n",
    "    def forward(self, x, padding_mask):\n",
    "        for layer in self.layers:\n",
    "            x = layer(x, padding_mask)\n",
    "        logits = self.linear(x)[0]\n",
    "        return logits\n",
    "\n",
    "class Classifier2(nn.Module):\n",
    "    def __init__(self, nlayer, ndim, nhid, nclass, drop=0.1) -> None:\n",
    "        super().__init__()\n",
    "        \n",
    "        self.proj = nn.Linear(ndim, nhid)\n",
    "        self.layers = nn.ModuleList([nn.Linear(nhid, nhid) for _ in range(nlayer)])\n",
    "        self.linear = nn.Linear(nhid, nclass)\n",
    "        self.relu = nn.ReLU()\n",
    "\n",
    "    def forward(self, x, padding_mask):\n",
    "        seqlen, bs, _ = x.size()\n",
    "        x = th.cat([x[:, i, :][~padding_mask[i]].mean(dim=0).unsqueeze(0) for i in range(bs)], dim=0)\n",
    "\n",
    "        x = self.relu(self.proj(x))\n",
    "        for layer in self.layers:\n",
    "            x = self.relu(layer(x))\n",
    "        logits = self.linear(x)\n",
    "        return logits"
   ]
  },
  {
   "cell_type": "code",
   "execution_count": 62,
   "metadata": {},
   "outputs": [],
   "source": [
    "classifier = Classifier2(1, 1024, 4096, len(langs)).to(device)"
   ]
  },
  {
   "cell_type": "code",
   "execution_count": 63,
   "metadata": {},
   "outputs": [],
   "source": [
    "optimizer = th.optim.Adam(classifier.parameters(), lr=1e-4)"
   ]
  },
  {
   "cell_type": "code",
   "execution_count": 64,
   "metadata": {},
   "outputs": [],
   "source": [
    "loss_fn = nn.CrossEntropyLoss()"
   ]
  },
  {
   "cell_type": "code",
   "execution_count": 65,
   "metadata": {},
   "outputs": [],
   "source": [
    "n_epoch = 20"
   ]
  },
  {
   "cell_type": "code",
   "execution_count": 66,
   "metadata": {},
   "outputs": [
    {
     "name": "stderr",
     "output_type": "stream",
     "text": [
      "Epoch 1 Loss 0.24: 100%|██████████| 463/463 [00:12<00:00, 35.74it/s]\n",
      "Epoch 2 Loss 0.06: 100%|██████████| 463/463 [00:12<00:00, 38.09it/s]\n",
      "Epoch 3 Loss 0.06:  38%|███▊      | 174/463 [00:04<00:07, 37.03it/s]\n"
     ]
    },
    {
     "ename": "KeyboardInterrupt",
     "evalue": "",
     "output_type": "error",
     "traceback": [
      "\u001b[0;31m---------------------------------------------------------------------------\u001b[0m",
      "\u001b[0;31mKeyboardInterrupt\u001b[0m                         Traceback (most recent call last)",
      "\u001b[0;32m/tmp/ipykernel_4255/1528107557.py\u001b[0m in \u001b[0;36m<module>\u001b[0;34m\u001b[0m\n\u001b[1;32m      6\u001b[0m     \u001b[0;32mfor\u001b[0m \u001b[0minputs\u001b[0m\u001b[0;34m,\u001b[0m \u001b[0mpadding_mask\u001b[0m\u001b[0;34m,\u001b[0m \u001b[0mlabels\u001b[0m \u001b[0;32min\u001b[0m \u001b[0miterator\u001b[0m\u001b[0;34m:\u001b[0m\u001b[0;34m\u001b[0m\u001b[0;34m\u001b[0m\u001b[0m\n\u001b[1;32m      7\u001b[0m         \u001b[0moptimizer\u001b[0m\u001b[0;34m.\u001b[0m\u001b[0mzero_grad\u001b[0m\u001b[0;34m(\u001b[0m\u001b[0;34m)\u001b[0m\u001b[0;34m\u001b[0m\u001b[0;34m\u001b[0m\u001b[0m\n\u001b[0;32m----> 8\u001b[0;31m         \u001b[0mlogits\u001b[0m \u001b[0;34m=\u001b[0m \u001b[0mclassifier\u001b[0m\u001b[0;34m(\u001b[0m\u001b[0minputs\u001b[0m\u001b[0;34m,\u001b[0m \u001b[0mpadding_mask\u001b[0m\u001b[0;34m)\u001b[0m\u001b[0;34m\u001b[0m\u001b[0;34m\u001b[0m\u001b[0m\n\u001b[0m\u001b[1;32m      9\u001b[0m         \u001b[0mloss\u001b[0m \u001b[0;34m=\u001b[0m \u001b[0mloss_fn\u001b[0m\u001b[0;34m(\u001b[0m\u001b[0mlogits\u001b[0m\u001b[0;34m,\u001b[0m \u001b[0mlabels\u001b[0m\u001b[0;34m)\u001b[0m\u001b[0;34m\u001b[0m\u001b[0;34m\u001b[0m\u001b[0m\n\u001b[1;32m     10\u001b[0m         \u001b[0mloss\u001b[0m\u001b[0;34m.\u001b[0m\u001b[0mbackward\u001b[0m\u001b[0;34m(\u001b[0m\u001b[0;34m)\u001b[0m\u001b[0;34m\u001b[0m\u001b[0;34m\u001b[0m\u001b[0m\n",
      "\u001b[0;32m/mnt/nvme/siqi/anaconda3/envs/st/lib/python3.9/site-packages/torch/nn/modules/module.py\u001b[0m in \u001b[0;36m_call_impl\u001b[0;34m(self, *input, **kwargs)\u001b[0m\n\u001b[1;32m   1100\u001b[0m         if not (self._backward_hooks or self._forward_hooks or self._forward_pre_hooks or _global_backward_hooks\n\u001b[1;32m   1101\u001b[0m                 or _global_forward_hooks or _global_forward_pre_hooks):\n\u001b[0;32m-> 1102\u001b[0;31m             \u001b[0;32mreturn\u001b[0m \u001b[0mforward_call\u001b[0m\u001b[0;34m(\u001b[0m\u001b[0;34m*\u001b[0m\u001b[0minput\u001b[0m\u001b[0;34m,\u001b[0m \u001b[0;34m**\u001b[0m\u001b[0mkwargs\u001b[0m\u001b[0;34m)\u001b[0m\u001b[0;34m\u001b[0m\u001b[0;34m\u001b[0m\u001b[0m\n\u001b[0m\u001b[1;32m   1103\u001b[0m         \u001b[0;31m# Do not call functions when jit is used\u001b[0m\u001b[0;34m\u001b[0m\u001b[0;34m\u001b[0m\u001b[0m\n\u001b[1;32m   1104\u001b[0m         \u001b[0mfull_backward_hooks\u001b[0m\u001b[0;34m,\u001b[0m \u001b[0mnon_full_backward_hooks\u001b[0m \u001b[0;34m=\u001b[0m \u001b[0;34m[\u001b[0m\u001b[0;34m]\u001b[0m\u001b[0;34m,\u001b[0m \u001b[0;34m[\u001b[0m\u001b[0;34m]\u001b[0m\u001b[0;34m\u001b[0m\u001b[0;34m\u001b[0m\u001b[0m\n",
      "\u001b[0;32m/tmp/ipykernel_4255/2957962218.py\u001b[0m in \u001b[0;36mforward\u001b[0;34m(self, x, padding_mask)\u001b[0m\n\u001b[1;32m     36\u001b[0m     \u001b[0;32mdef\u001b[0m \u001b[0mforward\u001b[0m\u001b[0;34m(\u001b[0m\u001b[0mself\u001b[0m\u001b[0;34m,\u001b[0m \u001b[0mx\u001b[0m\u001b[0;34m,\u001b[0m \u001b[0mpadding_mask\u001b[0m\u001b[0;34m)\u001b[0m\u001b[0;34m:\u001b[0m\u001b[0;34m\u001b[0m\u001b[0;34m\u001b[0m\u001b[0m\n\u001b[1;32m     37\u001b[0m         \u001b[0mseqlen\u001b[0m\u001b[0;34m,\u001b[0m \u001b[0mbs\u001b[0m\u001b[0;34m,\u001b[0m \u001b[0m_\u001b[0m \u001b[0;34m=\u001b[0m \u001b[0mx\u001b[0m\u001b[0;34m.\u001b[0m\u001b[0msize\u001b[0m\u001b[0;34m(\u001b[0m\u001b[0;34m)\u001b[0m\u001b[0;34m\u001b[0m\u001b[0;34m\u001b[0m\u001b[0m\n\u001b[0;32m---> 38\u001b[0;31m         \u001b[0mx\u001b[0m \u001b[0;34m=\u001b[0m \u001b[0mth\u001b[0m\u001b[0;34m.\u001b[0m\u001b[0mcat\u001b[0m\u001b[0;34m(\u001b[0m\u001b[0;34m[\u001b[0m\u001b[0mx\u001b[0m\u001b[0;34m[\u001b[0m\u001b[0;34m:\u001b[0m\u001b[0;34m,\u001b[0m \u001b[0mi\u001b[0m\u001b[0;34m,\u001b[0m \u001b[0;34m:\u001b[0m\u001b[0;34m]\u001b[0m\u001b[0;34m[\u001b[0m\u001b[0;34m~\u001b[0m\u001b[0mpadding_mask\u001b[0m\u001b[0;34m[\u001b[0m\u001b[0mi\u001b[0m\u001b[0;34m]\u001b[0m\u001b[0;34m]\u001b[0m\u001b[0;34m.\u001b[0m\u001b[0mmean\u001b[0m\u001b[0;34m(\u001b[0m\u001b[0mdim\u001b[0m\u001b[0;34m=\u001b[0m\u001b[0;36m0\u001b[0m\u001b[0;34m)\u001b[0m\u001b[0;34m.\u001b[0m\u001b[0munsqueeze\u001b[0m\u001b[0;34m(\u001b[0m\u001b[0;36m0\u001b[0m\u001b[0;34m)\u001b[0m \u001b[0;32mfor\u001b[0m \u001b[0mi\u001b[0m \u001b[0;32min\u001b[0m \u001b[0mrange\u001b[0m\u001b[0;34m(\u001b[0m\u001b[0mbs\u001b[0m\u001b[0;34m)\u001b[0m\u001b[0;34m]\u001b[0m\u001b[0;34m,\u001b[0m \u001b[0mdim\u001b[0m\u001b[0;34m=\u001b[0m\u001b[0;36m0\u001b[0m\u001b[0;34m)\u001b[0m\u001b[0;34m\u001b[0m\u001b[0;34m\u001b[0m\u001b[0m\n\u001b[0m\u001b[1;32m     39\u001b[0m \u001b[0;34m\u001b[0m\u001b[0m\n\u001b[1;32m     40\u001b[0m         \u001b[0mx\u001b[0m \u001b[0;34m=\u001b[0m \u001b[0mself\u001b[0m\u001b[0;34m.\u001b[0m\u001b[0mrelu\u001b[0m\u001b[0;34m(\u001b[0m\u001b[0mself\u001b[0m\u001b[0;34m.\u001b[0m\u001b[0mproj\u001b[0m\u001b[0;34m(\u001b[0m\u001b[0mx\u001b[0m\u001b[0;34m)\u001b[0m\u001b[0;34m)\u001b[0m\u001b[0;34m\u001b[0m\u001b[0;34m\u001b[0m\u001b[0m\n",
      "\u001b[0;32m/tmp/ipykernel_4255/2957962218.py\u001b[0m in \u001b[0;36m<listcomp>\u001b[0;34m(.0)\u001b[0m\n\u001b[1;32m     36\u001b[0m     \u001b[0;32mdef\u001b[0m \u001b[0mforward\u001b[0m\u001b[0;34m(\u001b[0m\u001b[0mself\u001b[0m\u001b[0;34m,\u001b[0m \u001b[0mx\u001b[0m\u001b[0;34m,\u001b[0m \u001b[0mpadding_mask\u001b[0m\u001b[0;34m)\u001b[0m\u001b[0;34m:\u001b[0m\u001b[0;34m\u001b[0m\u001b[0;34m\u001b[0m\u001b[0m\n\u001b[1;32m     37\u001b[0m         \u001b[0mseqlen\u001b[0m\u001b[0;34m,\u001b[0m \u001b[0mbs\u001b[0m\u001b[0;34m,\u001b[0m \u001b[0m_\u001b[0m \u001b[0;34m=\u001b[0m \u001b[0mx\u001b[0m\u001b[0;34m.\u001b[0m\u001b[0msize\u001b[0m\u001b[0;34m(\u001b[0m\u001b[0;34m)\u001b[0m\u001b[0;34m\u001b[0m\u001b[0;34m\u001b[0m\u001b[0m\n\u001b[0;32m---> 38\u001b[0;31m         \u001b[0mx\u001b[0m \u001b[0;34m=\u001b[0m \u001b[0mth\u001b[0m\u001b[0;34m.\u001b[0m\u001b[0mcat\u001b[0m\u001b[0;34m(\u001b[0m\u001b[0;34m[\u001b[0m\u001b[0mx\u001b[0m\u001b[0;34m[\u001b[0m\u001b[0;34m:\u001b[0m\u001b[0;34m,\u001b[0m \u001b[0mi\u001b[0m\u001b[0;34m,\u001b[0m \u001b[0;34m:\u001b[0m\u001b[0;34m]\u001b[0m\u001b[0;34m[\u001b[0m\u001b[0;34m~\u001b[0m\u001b[0mpadding_mask\u001b[0m\u001b[0;34m[\u001b[0m\u001b[0mi\u001b[0m\u001b[0;34m]\u001b[0m\u001b[0;34m]\u001b[0m\u001b[0;34m.\u001b[0m\u001b[0mmean\u001b[0m\u001b[0;34m(\u001b[0m\u001b[0mdim\u001b[0m\u001b[0;34m=\u001b[0m\u001b[0;36m0\u001b[0m\u001b[0;34m)\u001b[0m\u001b[0;34m.\u001b[0m\u001b[0munsqueeze\u001b[0m\u001b[0;34m(\u001b[0m\u001b[0;36m0\u001b[0m\u001b[0;34m)\u001b[0m \u001b[0;32mfor\u001b[0m \u001b[0mi\u001b[0m \u001b[0;32min\u001b[0m \u001b[0mrange\u001b[0m\u001b[0;34m(\u001b[0m\u001b[0mbs\u001b[0m\u001b[0;34m)\u001b[0m\u001b[0;34m]\u001b[0m\u001b[0;34m,\u001b[0m \u001b[0mdim\u001b[0m\u001b[0;34m=\u001b[0m\u001b[0;36m0\u001b[0m\u001b[0;34m)\u001b[0m\u001b[0;34m\u001b[0m\u001b[0;34m\u001b[0m\u001b[0m\n\u001b[0m\u001b[1;32m     39\u001b[0m \u001b[0;34m\u001b[0m\u001b[0m\n\u001b[1;32m     40\u001b[0m         \u001b[0mx\u001b[0m \u001b[0;34m=\u001b[0m \u001b[0mself\u001b[0m\u001b[0;34m.\u001b[0m\u001b[0mrelu\u001b[0m\u001b[0;34m(\u001b[0m\u001b[0mself\u001b[0m\u001b[0;34m.\u001b[0m\u001b[0mproj\u001b[0m\u001b[0;34m(\u001b[0m\u001b[0mx\u001b[0m\u001b[0;34m)\u001b[0m\u001b[0;34m)\u001b[0m\u001b[0;34m\u001b[0m\u001b[0;34m\u001b[0m\u001b[0m\n",
      "\u001b[0;31mKeyboardInterrupt\u001b[0m: "
     ]
    }
   ],
   "source": [
    "classifier.train()\n",
    "for _ in range(n_epoch):\n",
    "    iterator = tqdm(batch_sampler)\n",
    "    sum_loss = 0\n",
    "    cnt = 0\n",
    "    for inputs, padding_mask, labels in iterator:\n",
    "        optimizer.zero_grad()\n",
    "        logits = classifier(inputs, padding_mask)\n",
    "        loss = loss_fn(logits, labels)\n",
    "        loss.backward()\n",
    "        optimizer.step()\n",
    "        \n",
    "        sum_loss += loss.item()\n",
    "        cnt += 1\n",
    "        iterator.set_description('Epoch {} Loss {:.2f}'.format(_ + 1, sum_loss / cnt))"
   ]
  },
  {
   "cell_type": "markdown",
   "metadata": {},
   "source": [
    "# TSNE/UMAP with respect to language"
   ]
  },
  {
   "cell_type": "code",
   "execution_count": 28,
   "metadata": {},
   "outputs": [
    {
     "name": "stderr",
     "output_type": "stream",
     "text": [
      "100%|██████████| 64060/64060 [00:44<00:00, 1440.26it/s]\n"
     ]
    }
   ],
   "source": [
    "all_features = []\n",
    "n_labels = [0] * len(langs)\n",
    "for seq_feature, lang in tqdm(dataset):\n",
    "    feature = seq_feature.mean(dim=0).unsqueeze(0).cpu().numpy()\n",
    "    n_labels[lang] += 1\n",
    "    all_features.append(feature)\n",
    "all_features = np.concatenate(all_features)"
   ]
  },
  {
   "cell_type": "code",
   "execution_count": 29,
   "metadata": {},
   "outputs": [],
   "source": [
    "np.save('std_ft.npy', all_features)\n",
    "np.save('std_n_labels', n_labels)"
   ]
  },
  {
   "cell_type": "code",
   "execution_count": 34,
   "metadata": {},
   "outputs": [],
   "source": [
    "all_features = np.load('std_ft.npy')\n",
    "n_labels = np.load('std_n_labels.npy')"
   ]
  },
  {
   "cell_type": "code",
   "execution_count": 35,
   "metadata": {},
   "outputs": [
    {
     "name": "stdout",
     "output_type": "stream",
     "text": [
      "UMAP(angular_rp_forest=True, metric='cosine', verbose=True)\n",
      "Tue Feb 15 13:01:36 2022 Construct fuzzy simplicial set\n",
      "Tue Feb 15 13:01:36 2022 Finding Nearest Neighbors\n",
      "Tue Feb 15 13:01:37 2022 Building RP forest with 18 trees\n",
      "Tue Feb 15 13:01:41 2022 NN descent for 16 iterations\n",
      "\t 1  /  16\n",
      "\t 2  /  16\n",
      "\t 3  /  16\n",
      "\t 4  /  16\n",
      "\t 5  /  16\n",
      "\tStopping threshold met -- exiting after 5 iterations\n",
      "Tue Feb 15 13:01:54 2022 Finished Nearest Neighbor Search\n",
      "Tue Feb 15 13:01:56 2022 Construct embedding\n"
     ]
    },
    {
     "data": {
      "application/vnd.jupyter.widget-view+json": {
       "model_id": "94e8bc03233b4518a556bfeac4f3b81b",
       "version_major": 2,
       "version_minor": 0
      },
      "text/plain": [
       "Epochs completed:   0%|            0/200 [00:00]"
      ]
     },
     "metadata": {},
     "output_type": "display_data"
    },
    {
     "name": "stdout",
     "output_type": "stream",
     "text": [
      "Tue Feb 15 13:02:38 2022 Finished embedding\n"
     ]
    }
   ],
   "source": [
    "projector = umap.UMAP(n_neighbors=15, n_components=2, metric='cosine', init='spectral', verbose=True)\n",
    "dots = projector.fit_transform(all_features)"
   ]
  },
  {
   "cell_type": "code",
   "execution_count": 36,
   "metadata": {},
   "outputs": [
    {
     "data": {
      "image/png": "[encoded data removed]",
      "text/plain": [
       "<Figure size 1600x800 with 8 Axes>"
      ]
     },
     "metadata": {},
     "output_type": "display_data"
    }
   ],
   "source": [
    "cnt = 0\n",
    "fig, axs = plt.subplots(2, 4, dpi=200, figsize=(8, 4))\n",
    "for idx, lang in enumerate(langs):\n",
    "    ax = axs[idx // 4, idx % 4]\n",
    "    ax.scatter(*zip(*dots[cnt:cnt + n_labels[idx]]), label=lang, s=0.5)\n",
    "    ax.set_title(lang)\n",
    "    ax.set_xticks([])\n",
    "    ax.set_yticks([])\n",
    "plt.savefig('std.png')"
   ]
  },
  {
   "cell_type": "markdown",
   "metadata": {},
   "source": [
    "# Frechet Distance"
   ]
  },
  {
   "cell_type": "code",
   "execution_count": 91,
   "metadata": {},
   "outputs": [],
   "source": [
    "all_features = np.load('adv_ft.npy')\n",
    "n_labels = np.load('adv_n_labels.npy')"
   ]
  },
  {
   "cell_type": "code",
   "execution_count": 92,
   "metadata": {},
   "outputs": [
    {
     "name": "stderr",
     "output_type": "stream",
     "text": [
      "100%|██████████| 8/8 [00:01<00:00,  4.64it/s]\n"
     ]
    }
   ],
   "source": [
    "cnt = 0\n",
    "means = []\n",
    "covs = []\n",
    "for idx, lang in enumerate(tqdm(langs)):\n",
    "    lang_features = all_features[cnt:cnt + n_labels[idx]]\n",
    "    mean = lang_features.mean(axis=0)\n",
    "    cov = np.cov(lang_features, rowvar=False, )\n",
    "    means.append(mean)\n",
    "    covs.append(cov)\n",
    "    cnt += n_labels[idx]"
   ]
  },
  {
   "cell_type": "code",
   "execution_count": 94,
   "metadata": {},
   "outputs": [
    {
     "name": "stderr",
     "output_type": "stream",
     "text": [
      "lang (fr, X):   0%|          | 0/8 [00:00<?, ?it/s]/tmp/ipykernel_30811/4113671158.py:7: ComplexWarning: Casting complex values to real discards the imaginary part\n",
      "  matrix[i, j] = (A + B) ** 0.5\n",
      "lang (fr, X): 100%|██████████| 8/8 [00:06<00:00,  1.25it/s]\n",
      "lang (de, X): 100%|██████████| 8/8 [00:05<00:00,  1.42it/s]\n",
      "lang (es, X): 100%|██████████| 8/8 [00:04<00:00,  1.82it/s]\n",
      "lang (it, X): 100%|██████████| 8/8 [00:03<00:00,  2.01it/s]\n",
      "lang (ru, X): 100%|██████████| 8/8 [00:02<00:00,  2.89it/s]\n",
      "lang (pt, X): 100%|██████████| 8/8 [00:01<00:00,  4.53it/s]\n",
      "lang (nl, X): 100%|██████████| 8/8 [00:01<00:00,  7.66it/s]\n",
      "lang (sv-SE, X): 100%|██████████| 8/8 [00:00<00:00, 133152.51it/s]\n"
     ]
    }
   ],
   "source": [
    "matrix = np.zeros((len(langs), len(langs)))\n",
    "for i in range(len(langs)):\n",
    "    for j in tqdm(range(len(langs)), desc='lang ({}, X)'.format(langs[i])):\n",
    "        if i < j:\n",
    "            A = ((means[i] - means[j]) ** 2).sum()\n",
    "            B = np.trace(covs[i] + covs[j] - 2 * scipy.linalg.sqrtm(np.matmul(covs[i], covs[j])))\n",
    "            matrix[i, j] = (A + B) ** 0.5\n",
    "        elif i > j:\n",
    "            matrix[i, j] = matrix[j, i]\n",
    "        else:\n",
    "            matrix[i, j] = 0."
   ]
  },
  {
   "cell_type": "code",
   "execution_count": 95,
   "metadata": {},
   "outputs": [
    {
     "name": "stderr",
     "output_type": "stream",
     "text": [
      "/tmp/ipykernel_30811/2453059293.py:5: UserWarning: FixedFormatter should only be used together with FixedLocator\n",
      "  ax.set_xticklabels([''] + langs)\n",
      "/tmp/ipykernel_30811/2453059293.py:6: UserWarning: FixedFormatter should only be used together with FixedLocator\n",
      "  ax.set_yticklabels([''] + langs)\n"
     ]
    },
    {
     "data": {
      "image/png": "[encoded data removed]",
      "text/plain": [
       "<Figure size 1200x800 with 2 Axes>"
      ]
     },
     "metadata": {
      "needs_background": "light"
     },
     "output_type": "display_data"
    }
   ],
   "source": [
    "fig = plt.figure(dpi=200)\n",
    "ax = fig.add_subplot(111)\n",
    "cax = ax.matshow(matrix, norm=mp.colors.Normalize(0, 7))\n",
    "fig.colorbar(cax)\n",
    "ax.set_xticklabels([''] + langs)\n",
    "ax.set_yticklabels([''] + langs)\n",
    "plt.savefig('adv_fd.png')"
   ]
  },
  {
   "cell_type": "code",
   "execution_count": null,
   "metadata": {},
   "outputs": [],
   "source": []
  }
 ],
 "metadata": {
  "interpreter": {
   "hash": "a68cd4a7ef308fe1097ac63f4e85e531ee114d7b566f56457f8a7bdc63a1a0bb"
  },
  "kernelspec": {
   "display_name": "Python 3.9.7 64-bit ('st': conda)",
   "language": "python",
   "name": "python3"
  },
  "language_info": {
   "codemirror_mode": {
    "name": "ipython",
    "version": 3
   },
   "file_extension": ".py",
   "mimetype": "text/x-python",
   "name": "python",
   "nbconvert_exporter": "python",
   "pygments_lexer": "ipython3",
   "version": "3.9.7"
  },
  "orig_nbformat": 4
 },
 "nbformat": 4,
 "nbformat_minor": 2
}

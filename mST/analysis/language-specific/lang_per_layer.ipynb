{
 "cells": [
  {
   "cell_type": "code",
   "execution_count": 2,
   "metadata": {},
   "outputs": [],
   "source": [
    "import os\n",
    "\n",
    "import torch as th\n",
    "from torch.utils.data import Dataset, Sampler, DataLoader\n",
    "from transformers import BertTokenizer, BertModel\n",
    "\n",
    "from sentence_transformers import SentenceTransformer\n",
    "\n",
    "import numpy as np\n",
    "import scipy.linalg as linalg\n",
    "\n",
    "from tqdm.notebook import tqdm\n",
    "import matplotlib as mp\n",
    "import matplotlib.pyplot as plt\n",
    "import matplotlib.colors as colors\n",
    "\n",
    "from sklearn.manifold import TSNE, MDS, Isomap\n",
    "from sklearn.decomposition import PCA\n",
    "from sklearn.preprocessing import StandardScaler\n",
    "from sklearn.pipeline import Pipeline\n",
    "import pandas as pd\n",
    "import seaborn as sns\n",
    "\n",
    "import faiss\n",
    "\n",
    "from examples.speech_to_text.data_utils import load_df_from_tsv"
   ]
  },
  {
   "cell_type": "code",
   "execution_count": 3,
   "metadata": {},
   "outputs": [],
   "source": [
    "root = '/mnt/raid0/siqi/datasets/covost2'\n",
    "langs = [\"fr\", \"de\", \"es\", \"fa\", \"it\", \"ru\", \"pt\", \"zh-CN\", \"tr\", \"ar\", \"et\", \"mn\", \"nl\", \"sv-SE\", \"lv\", \"sl\", \"ta\", \"ja\", \"id\"]\n",
    "os.makedirs('resources', exist_ok=True)\n",
    "device='cuda:1'\n",
    "n_layer = 12"
   ]
  },
  {
   "cell_type": "code",
   "execution_count": 4,
   "metadata": {},
   "outputs": [],
   "source": [
    "ver = 'std'\n",
    "\n",
    "class MyDataset(Dataset):\n",
    "    def __init__(self, langs, layer_id):\n",
    "        self.langs = langs\n",
    "        self.layer_id = layer_id\n",
    "        self.data = []\n",
    "        self.labels = [] \n",
    "        for lang_id, lang in enumerate(langs):\n",
    "            for batch_idx in tqdm(os.listdir('/mnt/raid0/siqi/analysis/resources-{}/{}'.format(ver, lang)), desc='Layer {} Lang {}'.format(layer_id, lang)):\n",
    "                x_per_layer = th.load('/mnt/raid0/siqi/analysis/resources-{}/{}/{}'.format(ver, lang, batch_idx), map_location='cpu')\n",
    "                self.data.extend(x_per_layer[layer_id])\n",
    "                self.labels.extend([lang_id] * len(x_per_layer[layer_id]))\n",
    "\n",
    "    def __getitem__(self, idx):\n",
    "        return self.data[idx], self.labels[idx]\n",
    "\n",
    "    def __len__(self):\n",
    "        return len(self.data)\n",
    "\n",
    "# datasets = [MyDataset(langs, layer_id) for layer_id in range(n_layer)]\n",
    "# th.save(datasets, 'resources/{}_datasets_per_layer.pt'.format(ver))\n",
    "\n",
    "datasets = th.load('resources/{}_datasets_per_layer.pt'.format(ver))"
   ]
  },
  {
   "cell_type": "code",
   "execution_count": 5,
   "metadata": {},
   "outputs": [
    {
     "data": {
      "application/vnd.jupyter.widget-view+json": {
       "model_id": "8482cfa84ea046d885ebd739ae688c35",
       "version_major": 2,
       "version_minor": 0
      },
      "text/plain": [
       "Layer 0:   0%|          | 0/83360 [00:00<?, ?it/s]"
      ]
     },
     "metadata": {},
     "output_type": "display_data"
    },
    {
     "data": {
      "application/vnd.jupyter.widget-view+json": {
       "model_id": "86a28c574c2f458398bd25894c68c329",
       "version_major": 2,
       "version_minor": 0
      },
      "text/plain": [
       "Layer 1:   0%|          | 0/83360 [00:00<?, ?it/s]"
      ]
     },
     "metadata": {},
     "output_type": "display_data"
    },
    {
     "data": {
      "application/vnd.jupyter.widget-view+json": {
       "model_id": "005ee968d8ea49b886555ac040336bf7",
       "version_major": 2,
       "version_minor": 0
      },
      "text/plain": [
       "Layer 2:   0%|          | 0/83360 [00:00<?, ?it/s]"
      ]
     },
     "metadata": {},
     "output_type": "display_data"
    },
    {
     "data": {
      "application/vnd.jupyter.widget-view+json": {
       "model_id": "a3fb3a590388428d8b018d35eb0b03e6",
       "version_major": 2,
       "version_minor": 0
      },
      "text/plain": [
       "Layer 3:   0%|          | 0/83360 [00:00<?, ?it/s]"
      ]
     },
     "metadata": {},
     "output_type": "display_data"
    },
    {
     "data": {
      "application/vnd.jupyter.widget-view+json": {
       "model_id": "7a187abf4dda4e8e8b3e5debbc9e4fdc",
       "version_major": 2,
       "version_minor": 0
      },
      "text/plain": [
       "Layer 4:   0%|          | 0/83360 [00:00<?, ?it/s]"
      ]
     },
     "metadata": {},
     "output_type": "display_data"
    },
    {
     "data": {
      "application/vnd.jupyter.widget-view+json": {
       "model_id": "52337e18d6204b8face50482f2122ee6",
       "version_major": 2,
       "version_minor": 0
      },
      "text/plain": [
       "Layer 5:   0%|          | 0/83360 [00:00<?, ?it/s]"
      ]
     },
     "metadata": {},
     "output_type": "display_data"
    },
    {
     "data": {
      "application/vnd.jupyter.widget-view+json": {
       "model_id": "0aaa45dc8fbc4cdca4d7a699fdbc7e33",
       "version_major": 2,
       "version_minor": 0
      },
      "text/plain": [
       "Layer 6:   0%|          | 0/83360 [00:00<?, ?it/s]"
      ]
     },
     "metadata": {},
     "output_type": "display_data"
    },
    {
     "data": {
      "application/vnd.jupyter.widget-view+json": {
       "model_id": "ef92870a910640099bf901290f4ed53b",
       "version_major": 2,
       "version_minor": 0
      },
      "text/plain": [
       "Layer 7:   0%|          | 0/83360 [00:00<?, ?it/s]"
      ]
     },
     "metadata": {},
     "output_type": "display_data"
    },
    {
     "data": {
      "application/vnd.jupyter.widget-view+json": {
       "model_id": "c1823d70ebdf46bf975205f62d135b89",
       "version_major": 2,
       "version_minor": 0
      },
      "text/plain": [
       "Layer 8:   0%|          | 0/83360 [00:00<?, ?it/s]"
      ]
     },
     "metadata": {},
     "output_type": "display_data"
    },
    {
     "data": {
      "application/vnd.jupyter.widget-view+json": {
       "model_id": "6ee928d8521046fea75f2e1227a2b7ef",
       "version_major": 2,
       "version_minor": 0
      },
      "text/plain": [
       "Layer 9:   0%|          | 0/83360 [00:00<?, ?it/s]"
      ]
     },
     "metadata": {},
     "output_type": "display_data"
    },
    {
     "data": {
      "application/vnd.jupyter.widget-view+json": {
       "model_id": "947df6986c7a44a59fe0ba9e184fc633",
       "version_major": 2,
       "version_minor": 0
      },
      "text/plain": [
       "Layer 10:   0%|          | 0/83360 [00:00<?, ?it/s]"
      ]
     },
     "metadata": {},
     "output_type": "display_data"
    },
    {
     "data": {
      "application/vnd.jupyter.widget-view+json": {
       "model_id": "e8dcbb6dbd4a485f928c44fcedfad32a",
       "version_major": 2,
       "version_minor": 0
      },
      "text/plain": [
       "Layer 11:   0%|          | 0/83360 [00:00<?, ?it/s]"
      ]
     },
     "metadata": {},
     "output_type": "display_data"
    }
   ],
   "source": [
    "feature_sets = [[] for _ in range(n_layer)]\n",
    "n_labels = [0] * len(langs)\n",
    "for layer_id in range(n_layer):\n",
    "    dataset = datasets[layer_id]\n",
    "    for ft, label in tqdm(dataset, desc='Layer {}'.format(layer_id)):\n",
    "        feature_sets[layer_id].append(ft.numpy())\n",
    "        if layer_id == 0:\n",
    "            n_labels[label] += 1\n",
    "    feature_sets[layer_id] = np.stack(feature_sets[layer_id], axis=0)"
   ]
  },
  {
   "cell_type": "code",
   "execution_count": 6,
   "metadata": {},
   "outputs": [],
   "source": [
    "projector = TSNE(n_components=2, perplexity=60, init='pca', verbose=2, learning_rate='auto')"
   ]
  },
  {
   "cell_type": "code",
   "execution_count": 8,
   "metadata": {},
   "outputs": [
    {
     "name": "stdout",
     "output_type": "stream",
     "text": [
      "Processing Layer 11\n",
      "[t-SNE] Computing 181 nearest neighbors...\n",
      "[t-SNE] Indexed 83360 samples in 0.041s...\n",
      "[t-SNE] Computed neighbors for 83360 samples in 211.250s...\n",
      "[t-SNE] Computed conditional probabilities for sample 1000 / 83360\n",
      "[t-SNE] Computed conditional probabilities for sample 2000 / 83360\n",
      "[t-SNE] Computed conditional probabilities for sample 3000 / 83360\n",
      "[t-SNE] Computed conditional probabilities for sample 4000 / 83360\n",
      "[t-SNE] Computed conditional probabilities for sample 5000 / 83360\n",
      "[t-SNE] Computed conditional probabilities for sample 6000 / 83360\n",
      "[t-SNE] Computed conditional probabilities for sample 7000 / 83360\n",
      "[t-SNE] Computed conditional probabilities for sample 8000 / 83360\n",
      "[t-SNE] Computed conditional probabilities for sample 9000 / 83360\n",
      "[t-SNE] Computed conditional probabilities for sample 10000 / 83360\n",
      "[t-SNE] Computed conditional probabilities for sample 11000 / 83360\n",
      "[t-SNE] Computed conditional probabilities for sample 12000 / 83360\n",
      "[t-SNE] Computed conditional probabilities for sample 13000 / 83360\n",
      "[t-SNE] Computed conditional probabilities for sample 14000 / 83360\n",
      "[t-SNE] Computed conditional probabilities for sample 15000 / 83360\n",
      "[t-SNE] Computed conditional probabilities for sample 16000 / 83360\n",
      "[t-SNE] Computed conditional probabilities for sample 17000 / 83360\n",
      "[t-SNE] Computed conditional probabilities for sample 18000 / 83360\n",
      "[t-SNE] Computed conditional probabilities for sample 19000 / 83360\n",
      "[t-SNE] Computed conditional probabilities for sample 20000 / 83360\n",
      "[t-SNE] Computed conditional probabilities for sample 21000 / 83360\n",
      "[t-SNE] Computed conditional probabilities for sample 22000 / 83360\n",
      "[t-SNE] Computed conditional probabilities for sample 23000 / 83360\n",
      "[t-SNE] Computed conditional probabilities for sample 24000 / 83360\n",
      "[t-SNE] Computed conditional probabilities for sample 25000 / 83360\n",
      "[t-SNE] Computed conditional probabilities for sample 26000 / 83360\n",
      "[t-SNE] Computed conditional probabilities for sample 27000 / 83360\n",
      "[t-SNE] Computed conditional probabilities for sample 28000 / 83360\n",
      "[t-SNE] Computed conditional probabilities for sample 29000 / 83360\n",
      "[t-SNE] Computed conditional probabilities for sample 30000 / 83360\n",
      "[t-SNE] Computed conditional probabilities for sample 31000 / 83360\n",
      "[t-SNE] Computed conditional probabilities for sample 32000 / 83360\n",
      "[t-SNE] Computed conditional probabilities for sample 33000 / 83360\n",
      "[t-SNE] Computed conditional probabilities for sample 34000 / 83360\n",
      "[t-SNE] Computed conditional probabilities for sample 35000 / 83360\n",
      "[t-SNE] Computed conditional probabilities for sample 36000 / 83360\n",
      "[t-SNE] Computed conditional probabilities for sample 37000 / 83360\n",
      "[t-SNE] Computed conditional probabilities for sample 38000 / 83360\n",
      "[t-SNE] Computed conditional probabilities for sample 39000 / 83360\n",
      "[t-SNE] Computed conditional probabilities for sample 40000 / 83360\n",
      "[t-SNE] Computed conditional probabilities for sample 41000 / 83360\n",
      "[t-SNE] Computed conditional probabilities for sample 42000 / 83360\n",
      "[t-SNE] Computed conditional probabilities for sample 43000 / 83360\n",
      "[t-SNE] Computed conditional probabilities for sample 44000 / 83360\n",
      "[t-SNE] Computed conditional probabilities for sample 45000 / 83360\n",
      "[t-SNE] Computed conditional probabilities for sample 46000 / 83360\n",
      "[t-SNE] Computed conditional probabilities for sample 47000 / 83360\n",
      "[t-SNE] Computed conditional probabilities for sample 48000 / 83360\n",
      "[t-SNE] Computed conditional probabilities for sample 49000 / 83360\n",
      "[t-SNE] Computed conditional probabilities for sample 50000 / 83360\n",
      "[t-SNE] Computed conditional probabilities for sample 51000 / 83360\n",
      "[t-SNE] Computed conditional probabilities for sample 52000 / 83360\n",
      "[t-SNE] Computed conditional probabilities for sample 53000 / 83360\n",
      "[t-SNE] Computed conditional probabilities for sample 54000 / 83360\n",
      "[t-SNE] Computed conditional probabilities for sample 55000 / 83360\n",
      "[t-SNE] Computed conditional probabilities for sample 56000 / 83360\n",
      "[t-SNE] Computed conditional probabilities for sample 57000 / 83360\n",
      "[t-SNE] Computed conditional probabilities for sample 58000 / 83360\n",
      "[t-SNE] Computed conditional probabilities for sample 59000 / 83360\n",
      "[t-SNE] Computed conditional probabilities for sample 60000 / 83360\n",
      "[t-SNE] Computed conditional probabilities for sample 61000 / 83360\n",
      "[t-SNE] Computed conditional probabilities for sample 62000 / 83360\n",
      "[t-SNE] Computed conditional probabilities for sample 63000 / 83360\n",
      "[t-SNE] Computed conditional probabilities for sample 64000 / 83360\n",
      "[t-SNE] Computed conditional probabilities for sample 65000 / 83360\n",
      "[t-SNE] Computed conditional probabilities for sample 66000 / 83360\n",
      "[t-SNE] Computed conditional probabilities for sample 67000 / 83360\n",
      "[t-SNE] Computed conditional probabilities for sample 68000 / 83360\n",
      "[t-SNE] Computed conditional probabilities for sample 69000 / 83360\n",
      "[t-SNE] Computed conditional probabilities for sample 70000 / 83360\n",
      "[t-SNE] Computed conditional probabilities for sample 71000 / 83360\n",
      "[t-SNE] Computed conditional probabilities for sample 72000 / 83360\n",
      "[t-SNE] Computed conditional probabilities for sample 73000 / 83360\n",
      "[t-SNE] Computed conditional probabilities for sample 74000 / 83360\n",
      "[t-SNE] Computed conditional probabilities for sample 75000 / 83360\n",
      "[t-SNE] Computed conditional probabilities for sample 76000 / 83360\n",
      "[t-SNE] Computed conditional probabilities for sample 77000 / 83360\n",
      "[t-SNE] Computed conditional probabilities for sample 78000 / 83360\n",
      "[t-SNE] Computed conditional probabilities for sample 79000 / 83360\n",
      "[t-SNE] Computed conditional probabilities for sample 80000 / 83360\n",
      "[t-SNE] Computed conditional probabilities for sample 81000 / 83360\n",
      "[t-SNE] Computed conditional probabilities for sample 82000 / 83360\n",
      "[t-SNE] Computed conditional probabilities for sample 83000 / 83360\n",
      "[t-SNE] Computed conditional probabilities for sample 83360 / 83360\n",
      "[t-SNE] Mean sigma: 9.942385\n",
      "[t-SNE] Computed conditional probabilities in 6.204s\n"
     ]
    },
    {
     "name": "stderr",
     "output_type": "stream",
     "text": [
      "/mnt/nvme/siqi/anaconda3/envs/st/lib/python3.9/site-packages/sklearn/manifold/_t_sne.py:982: FutureWarning: The PCA initialization in TSNE will change to have the standard deviation of PC1 equal to 1e-4 in 1.2. This will ensure better convergence.\n",
      "  warnings.warn(\n"
     ]
    },
    {
     "name": "stdout",
     "output_type": "stream",
     "text": [
      "[t-SNE] Iteration 50: error = 70.1111984, gradient norm = 0.0073721 (50 iterations in 33.699s)\n",
      "[t-SNE] Iteration 100: error = 71.8012390, gradient norm = 0.0048727 (50 iterations in 22.683s)\n",
      "[t-SNE] Iteration 150: error = 72.1767960, gradient norm = 0.0037976 (50 iterations in 23.704s)\n",
      "[t-SNE] Iteration 200: error = 72.7978821, gradient norm = 0.0023572 (50 iterations in 25.217s)\n",
      "[t-SNE] Iteration 250: error = 73.3558197, gradient norm = 0.0035249 (50 iterations in 27.215s)\n",
      "[t-SNE] KL divergence after 250 iterations with early exaggeration: 73.355820\n",
      "[t-SNE] Iteration 300: error = 2.4213743, gradient norm = 0.0002752 (50 iterations in 37.242s)\n",
      "[t-SNE] Iteration 350: error = 2.2863576, gradient norm = 0.0001205 (50 iterations in 43.432s)\n",
      "[t-SNE] Iteration 400: error = 2.2237241, gradient norm = 0.0000829 (50 iterations in 41.758s)\n",
      "[t-SNE] Iteration 450: error = 2.1755471, gradient norm = 0.0000709 (50 iterations in 39.767s)\n",
      "[t-SNE] Iteration 500: error = 2.1359429, gradient norm = 0.0000597 (50 iterations in 36.679s)\n",
      "[t-SNE] Iteration 550: error = 2.1030517, gradient norm = 0.0000565 (50 iterations in 34.859s)\n",
      "[t-SNE] Iteration 600: error = 2.0746543, gradient norm = 0.0000523 (50 iterations in 32.124s)\n",
      "[t-SNE] Iteration 650: error = 2.0533786, gradient norm = 0.0000381 (50 iterations in 30.250s)\n",
      "[t-SNE] Iteration 700: error = 2.0331235, gradient norm = 0.0000389 (50 iterations in 29.361s)\n",
      "[t-SNE] Iteration 750: error = 2.0152743, gradient norm = 0.0000360 (50 iterations in 27.826s)\n",
      "[t-SNE] Iteration 800: error = 1.9993345, gradient norm = 0.0000338 (50 iterations in 27.282s)\n",
      "[t-SNE] Iteration 850: error = 1.9853660, gradient norm = 0.0000308 (50 iterations in 26.538s)\n",
      "[t-SNE] Iteration 900: error = 1.9720218, gradient norm = 0.0000277 (50 iterations in 25.566s)\n",
      "[t-SNE] Iteration 950: error = 1.9618787, gradient norm = 0.0000228 (50 iterations in 24.837s)\n",
      "[t-SNE] Iteration 1000: error = 1.9538569, gradient norm = 0.0000217 (50 iterations in 23.886s)\n",
      "[t-SNE] KL divergence after 1000 iterations: 1.953857\n"
     ]
    },
    {
     "name": "stderr",
     "output_type": "stream",
     "text": [
      "/mnt/nvme/siqi/anaconda3/envs/st/lib/python3.9/site-packages/seaborn/distributions.py:1210: UserWarning: No contour levels were found within the data range.\n",
      "  cset = contour_func(\n"
     ]
    }
   ],
   "source": [
    "for layer_id in [11]:\n",
    "    print('Processing Layer {}'.format(layer_id))\n",
    "    dots = projector.fit_transform(feature_sets[layer_id])\n",
    "\n",
    "    dots_per_lang = []\n",
    "    cnt = 0\n",
    "    for lang_id in range(len(langs)):\n",
    "        dots_per_lang.append(dots[cnt:cnt+n_labels[lang_id]])\n",
    "        cnt += n_labels[lang_id]\n",
    "\n",
    "    os.makedirs('figures/{}/layer_{}'.format(ver, layer_id))\n",
    "\n",
    "    for i, lang_i in enumerate(langs):\n",
    "        for j, lang_j in enumerate(langs):\n",
    "            if i < j:\n",
    "                df = pd.DataFrame(columns=['x', 'y', 'lang'])\n",
    "                xs = []\n",
    "                ys = []\n",
    "                ls = []\n",
    "                xs.extend(dots_per_lang[i][:, 0].tolist())\n",
    "                ys.extend(dots_per_lang[i][:, 1].tolist())\n",
    "                xs.extend(dots_per_lang[j][:, 0].tolist())\n",
    "                ys.extend(dots_per_lang[j][:, 1].tolist())\n",
    "                ls.extend([lang_i] * n_labels[i])\n",
    "                ls.extend([lang_j] * n_labels[j])\n",
    "                df['x'] = xs\n",
    "                df['y'] = ys\n",
    "                df['lang'] = ls\n",
    "                sns.jointplot(data=df, x='x', y='y', hue='lang', kind='kde')\n",
    "                plt.savefig('figures/{}/layer_{}/{}_{}_{}.pdf'.format(ver, layer_id, ver, lang_i, lang_j))\n",
    "                plt.close()"
   ]
  },
  {
   "cell_type": "code",
   "execution_count": null,
   "metadata": {},
   "outputs": [],
   "source": []
  },
  {
   "cell_type": "code",
   "execution_count": 9,
   "metadata": {},
   "outputs": [
    {
     "data": {
      "application/vnd.jupyter.widget-view+json": {
       "model_id": "f2f3fc9b98dc4135b57d9557abfb7a0b",
       "version_major": 2,
       "version_minor": 0
      },
      "text/plain": [
       "  0%|          | 0/19 [00:00<?, ?it/s]"
      ]
     },
     "metadata": {},
     "output_type": "display_data"
    }
   ],
   "source": [
    "all_features = []\n",
    "n_labels = []\n",
    "for i in tqdm(range(len(langs))):\n",
    "    features = np.load('resources/{}.npy'.format(langs[i]))\n",
    "    n_labels.append(features.shape[0])\n",
    "    all_features.append(features)\n",
    "all_features = np.concatenate(all_features, axis=0)"
   ]
  },
  {
   "cell_type": "code",
   "execution_count": 10,
   "metadata": {},
   "outputs": [
    {
     "name": "stdout",
     "output_type": "stream",
     "text": [
      "Processing Layer 11\n",
      "[t-SNE] Computing 181 nearest neighbors...\n",
      "[t-SNE] Indexed 81360 samples in 0.030s...\n"
     ]
    },
    {
     "ename": "KeyboardInterrupt",
     "evalue": "",
     "output_type": "error",
     "traceback": [
      "\u001b[0;31m---------------------------------------------------------------------------\u001b[0m",
      "\u001b[0;31mKeyboardInterrupt\u001b[0m                         Traceback (most recent call last)",
      "\u001b[0;32m/tmp/ipykernel_16466/3115534349.py\u001b[0m in \u001b[0;36m<module>\u001b[0;34m\u001b[0m\n\u001b[1;32m      1\u001b[0m \u001b[0mprint\u001b[0m\u001b[0;34m(\u001b[0m\u001b[0;34m'Processing Layer {}'\u001b[0m\u001b[0;34m.\u001b[0m\u001b[0mformat\u001b[0m\u001b[0;34m(\u001b[0m\u001b[0mlayer_id\u001b[0m\u001b[0;34m)\u001b[0m\u001b[0;34m)\u001b[0m\u001b[0;34m\u001b[0m\u001b[0;34m\u001b[0m\u001b[0m\n\u001b[0;32m----> 2\u001b[0;31m \u001b[0mdots\u001b[0m \u001b[0;34m=\u001b[0m \u001b[0mprojector\u001b[0m\u001b[0;34m.\u001b[0m\u001b[0mfit_transform\u001b[0m\u001b[0;34m(\u001b[0m\u001b[0mall_features\u001b[0m\u001b[0;34m)\u001b[0m\u001b[0;34m\u001b[0m\u001b[0;34m\u001b[0m\u001b[0m\n\u001b[0m\u001b[1;32m      3\u001b[0m \u001b[0;34m\u001b[0m\u001b[0m\n\u001b[1;32m      4\u001b[0m \u001b[0mdots_per_lang\u001b[0m \u001b[0;34m=\u001b[0m \u001b[0;34m[\u001b[0m\u001b[0;34m]\u001b[0m\u001b[0;34m\u001b[0m\u001b[0;34m\u001b[0m\u001b[0m\n\u001b[1;32m      5\u001b[0m \u001b[0mcnt\u001b[0m \u001b[0;34m=\u001b[0m \u001b[0;36m0\u001b[0m\u001b[0;34m\u001b[0m\u001b[0;34m\u001b[0m\u001b[0m\n",
      "\u001b[0;32m/mnt/nvme/siqi/anaconda3/envs/st/lib/python3.9/site-packages/sklearn/manifold/_t_sne.py\u001b[0m in \u001b[0;36mfit_transform\u001b[0;34m(self, X, y)\u001b[0m\n\u001b[1;32m   1106\u001b[0m             \u001b[0mEmbedding\u001b[0m \u001b[0mof\u001b[0m \u001b[0mthe\u001b[0m \u001b[0mtraining\u001b[0m \u001b[0mdata\u001b[0m \u001b[0;32min\u001b[0m \u001b[0mlow\u001b[0m\u001b[0;34m-\u001b[0m\u001b[0mdimensional\u001b[0m \u001b[0mspace\u001b[0m\u001b[0;34m.\u001b[0m\u001b[0;34m\u001b[0m\u001b[0;34m\u001b[0m\u001b[0m\n\u001b[1;32m   1107\u001b[0m         \"\"\"\n\u001b[0;32m-> 1108\u001b[0;31m         \u001b[0membedding\u001b[0m \u001b[0;34m=\u001b[0m \u001b[0mself\u001b[0m\u001b[0;34m.\u001b[0m\u001b[0m_fit\u001b[0m\u001b[0;34m(\u001b[0m\u001b[0mX\u001b[0m\u001b[0;34m)\u001b[0m\u001b[0;34m\u001b[0m\u001b[0;34m\u001b[0m\u001b[0m\n\u001b[0m\u001b[1;32m   1109\u001b[0m         \u001b[0mself\u001b[0m\u001b[0;34m.\u001b[0m\u001b[0membedding_\u001b[0m \u001b[0;34m=\u001b[0m \u001b[0membedding\u001b[0m\u001b[0;34m\u001b[0m\u001b[0;34m\u001b[0m\u001b[0m\n\u001b[1;32m   1110\u001b[0m         \u001b[0;32mreturn\u001b[0m \u001b[0mself\u001b[0m\u001b[0;34m.\u001b[0m\u001b[0membedding_\u001b[0m\u001b[0;34m\u001b[0m\u001b[0;34m\u001b[0m\u001b[0m\n",
      "\u001b[0;32m/mnt/nvme/siqi/anaconda3/envs/st/lib/python3.9/site-packages/sklearn/manifold/_t_sne.py\u001b[0m in \u001b[0;36m_fit\u001b[0;34m(self, X, skip_num_points)\u001b[0m\n\u001b[1;32m    945\u001b[0m \u001b[0;34m\u001b[0m\u001b[0m\n\u001b[1;32m    946\u001b[0m             \u001b[0mt0\u001b[0m \u001b[0;34m=\u001b[0m \u001b[0mtime\u001b[0m\u001b[0;34m(\u001b[0m\u001b[0;34m)\u001b[0m\u001b[0;34m\u001b[0m\u001b[0;34m\u001b[0m\u001b[0m\n\u001b[0;32m--> 947\u001b[0;31m             \u001b[0mdistances_nn\u001b[0m \u001b[0;34m=\u001b[0m \u001b[0mknn\u001b[0m\u001b[0;34m.\u001b[0m\u001b[0mkneighbors_graph\u001b[0m\u001b[0;34m(\u001b[0m\u001b[0mmode\u001b[0m\u001b[0;34m=\u001b[0m\u001b[0;34m\"distance\"\u001b[0m\u001b[0;34m)\u001b[0m\u001b[0;34m\u001b[0m\u001b[0;34m\u001b[0m\u001b[0m\n\u001b[0m\u001b[1;32m    948\u001b[0m             \u001b[0mduration\u001b[0m \u001b[0;34m=\u001b[0m \u001b[0mtime\u001b[0m\u001b[0;34m(\u001b[0m\u001b[0;34m)\u001b[0m \u001b[0;34m-\u001b[0m \u001b[0mt0\u001b[0m\u001b[0;34m\u001b[0m\u001b[0;34m\u001b[0m\u001b[0m\n\u001b[1;32m    949\u001b[0m             \u001b[0;32mif\u001b[0m \u001b[0mself\u001b[0m\u001b[0;34m.\u001b[0m\u001b[0mverbose\u001b[0m\u001b[0;34m:\u001b[0m\u001b[0;34m\u001b[0m\u001b[0;34m\u001b[0m\u001b[0m\n",
      "\u001b[0;32m/mnt/nvme/siqi/anaconda3/envs/st/lib/python3.9/site-packages/sklearn/neighbors/_base.py\u001b[0m in \u001b[0;36mkneighbors_graph\u001b[0;34m(self, X, n_neighbors, mode)\u001b[0m\n\u001b[1;32m    884\u001b[0m \u001b[0;34m\u001b[0m\u001b[0m\n\u001b[1;32m    885\u001b[0m         \u001b[0;32melif\u001b[0m \u001b[0mmode\u001b[0m \u001b[0;34m==\u001b[0m \u001b[0;34m\"distance\"\u001b[0m\u001b[0;34m:\u001b[0m\u001b[0;34m\u001b[0m\u001b[0;34m\u001b[0m\u001b[0m\n\u001b[0;32m--> 886\u001b[0;31m             \u001b[0mA_data\u001b[0m\u001b[0;34m,\u001b[0m \u001b[0mA_ind\u001b[0m \u001b[0;34m=\u001b[0m \u001b[0mself\u001b[0m\u001b[0;34m.\u001b[0m\u001b[0mkneighbors\u001b[0m\u001b[0;34m(\u001b[0m\u001b[0mX\u001b[0m\u001b[0;34m,\u001b[0m \u001b[0mn_neighbors\u001b[0m\u001b[0;34m,\u001b[0m \u001b[0mreturn_distance\u001b[0m\u001b[0;34m=\u001b[0m\u001b[0;32mTrue\u001b[0m\u001b[0;34m)\u001b[0m\u001b[0;34m\u001b[0m\u001b[0;34m\u001b[0m\u001b[0m\n\u001b[0m\u001b[1;32m    887\u001b[0m             \u001b[0mA_data\u001b[0m \u001b[0;34m=\u001b[0m \u001b[0mnp\u001b[0m\u001b[0;34m.\u001b[0m\u001b[0mravel\u001b[0m\u001b[0;34m(\u001b[0m\u001b[0mA_data\u001b[0m\u001b[0;34m)\u001b[0m\u001b[0;34m\u001b[0m\u001b[0;34m\u001b[0m\u001b[0m\n\u001b[1;32m    888\u001b[0m \u001b[0;34m\u001b[0m\u001b[0m\n",
      "\u001b[0;32m/mnt/nvme/siqi/anaconda3/envs/st/lib/python3.9/site-packages/sklearn/neighbors/_base.py\u001b[0m in \u001b[0;36mkneighbors\u001b[0;34m(self, X, n_neighbors, return_distance)\u001b[0m\n\u001b[1;32m    750\u001b[0m                 \u001b[0mkwds\u001b[0m \u001b[0;34m=\u001b[0m \u001b[0mself\u001b[0m\u001b[0;34m.\u001b[0m\u001b[0meffective_metric_params_\u001b[0m\u001b[0;34m\u001b[0m\u001b[0;34m\u001b[0m\u001b[0m\n\u001b[1;32m    751\u001b[0m \u001b[0;34m\u001b[0m\u001b[0m\n\u001b[0;32m--> 752\u001b[0;31m             chunked_results = list(\n\u001b[0m\u001b[1;32m    753\u001b[0m                 pairwise_distances_chunked(\n\u001b[1;32m    754\u001b[0m                     \u001b[0mX\u001b[0m\u001b[0;34m,\u001b[0m\u001b[0;34m\u001b[0m\u001b[0;34m\u001b[0m\u001b[0m\n",
      "\u001b[0;32m/mnt/nvme/siqi/anaconda3/envs/st/lib/python3.9/site-packages/sklearn/metrics/pairwise.py\u001b[0m in \u001b[0;36mpairwise_distances_chunked\u001b[0;34m(X, Y, reduce_func, metric, n_jobs, working_memory, **kwds)\u001b[0m\n\u001b[1;32m   1715\u001b[0m         \u001b[0;32melse\u001b[0m\u001b[0;34m:\u001b[0m\u001b[0;34m\u001b[0m\u001b[0;34m\u001b[0m\u001b[0m\n\u001b[1;32m   1716\u001b[0m             \u001b[0mX_chunk\u001b[0m \u001b[0;34m=\u001b[0m \u001b[0mX\u001b[0m\u001b[0;34m[\u001b[0m\u001b[0msl\u001b[0m\u001b[0;34m]\u001b[0m\u001b[0;34m\u001b[0m\u001b[0;34m\u001b[0m\u001b[0m\n\u001b[0;32m-> 1717\u001b[0;31m         \u001b[0mD_chunk\u001b[0m \u001b[0;34m=\u001b[0m \u001b[0mpairwise_distances\u001b[0m\u001b[0;34m(\u001b[0m\u001b[0mX_chunk\u001b[0m\u001b[0;34m,\u001b[0m \u001b[0mY\u001b[0m\u001b[0;34m,\u001b[0m \u001b[0mmetric\u001b[0m\u001b[0;34m=\u001b[0m\u001b[0mmetric\u001b[0m\u001b[0;34m,\u001b[0m \u001b[0mn_jobs\u001b[0m\u001b[0;34m=\u001b[0m\u001b[0mn_jobs\u001b[0m\u001b[0;34m,\u001b[0m \u001b[0;34m**\u001b[0m\u001b[0mkwds\u001b[0m\u001b[0;34m)\u001b[0m\u001b[0;34m\u001b[0m\u001b[0;34m\u001b[0m\u001b[0m\n\u001b[0m\u001b[1;32m   1718\u001b[0m         if (X is Y or Y is None) and PAIRWISE_DISTANCE_FUNCTIONS.get(\n\u001b[1;32m   1719\u001b[0m             \u001b[0mmetric\u001b[0m\u001b[0;34m,\u001b[0m \u001b[0;32mNone\u001b[0m\u001b[0;34m\u001b[0m\u001b[0;34m\u001b[0m\u001b[0m\n",
      "\u001b[0;32m/mnt/nvme/siqi/anaconda3/envs/st/lib/python3.9/site-packages/sklearn/metrics/pairwise.py\u001b[0m in \u001b[0;36mpairwise_distances\u001b[0;34m(X, Y, metric, n_jobs, force_all_finite, **kwds)\u001b[0m\n\u001b[1;32m   1887\u001b[0m         \u001b[0mfunc\u001b[0m \u001b[0;34m=\u001b[0m \u001b[0mpartial\u001b[0m\u001b[0;34m(\u001b[0m\u001b[0mdistance\u001b[0m\u001b[0;34m.\u001b[0m\u001b[0mcdist\u001b[0m\u001b[0;34m,\u001b[0m \u001b[0mmetric\u001b[0m\u001b[0;34m=\u001b[0m\u001b[0mmetric\u001b[0m\u001b[0;34m,\u001b[0m \u001b[0;34m**\u001b[0m\u001b[0mkwds\u001b[0m\u001b[0;34m)\u001b[0m\u001b[0;34m\u001b[0m\u001b[0;34m\u001b[0m\u001b[0m\n\u001b[1;32m   1888\u001b[0m \u001b[0;34m\u001b[0m\u001b[0m\n\u001b[0;32m-> 1889\u001b[0;31m     \u001b[0;32mreturn\u001b[0m \u001b[0m_parallel_pairwise\u001b[0m\u001b[0;34m(\u001b[0m\u001b[0mX\u001b[0m\u001b[0;34m,\u001b[0m \u001b[0mY\u001b[0m\u001b[0;34m,\u001b[0m \u001b[0mfunc\u001b[0m\u001b[0;34m,\u001b[0m \u001b[0mn_jobs\u001b[0m\u001b[0;34m,\u001b[0m \u001b[0;34m**\u001b[0m\u001b[0mkwds\u001b[0m\u001b[0;34m)\u001b[0m\u001b[0;34m\u001b[0m\u001b[0;34m\u001b[0m\u001b[0m\n\u001b[0m\u001b[1;32m   1890\u001b[0m \u001b[0;34m\u001b[0m\u001b[0m\n\u001b[1;32m   1891\u001b[0m \u001b[0;34m\u001b[0m\u001b[0m\n",
      "\u001b[0;32m/mnt/nvme/siqi/anaconda3/envs/st/lib/python3.9/site-packages/sklearn/metrics/pairwise.py\u001b[0m in \u001b[0;36m_parallel_pairwise\u001b[0;34m(X, Y, func, n_jobs, **kwds)\u001b[0m\n\u001b[1;32m   1428\u001b[0m \u001b[0;34m\u001b[0m\u001b[0m\n\u001b[1;32m   1429\u001b[0m     \u001b[0;32mif\u001b[0m \u001b[0meffective_n_jobs\u001b[0m\u001b[0;34m(\u001b[0m\u001b[0mn_jobs\u001b[0m\u001b[0;34m)\u001b[0m \u001b[0;34m==\u001b[0m \u001b[0;36m1\u001b[0m\u001b[0;34m:\u001b[0m\u001b[0;34m\u001b[0m\u001b[0;34m\u001b[0m\u001b[0m\n\u001b[0;32m-> 1430\u001b[0;31m         \u001b[0;32mreturn\u001b[0m \u001b[0mfunc\u001b[0m\u001b[0;34m(\u001b[0m\u001b[0mX\u001b[0m\u001b[0;34m,\u001b[0m \u001b[0mY\u001b[0m\u001b[0;34m,\u001b[0m \u001b[0;34m**\u001b[0m\u001b[0mkwds\u001b[0m\u001b[0;34m)\u001b[0m\u001b[0;34m\u001b[0m\u001b[0;34m\u001b[0m\u001b[0m\n\u001b[0m\u001b[1;32m   1431\u001b[0m \u001b[0;34m\u001b[0m\u001b[0m\n\u001b[1;32m   1432\u001b[0m     \u001b[0;31m# enforce a threading backend to prevent data communication overhead\u001b[0m\u001b[0;34m\u001b[0m\u001b[0;34m\u001b[0m\u001b[0m\n",
      "\u001b[0;32m/mnt/nvme/siqi/anaconda3/envs/st/lib/python3.9/site-packages/sklearn/metrics/pairwise.py\u001b[0m in \u001b[0;36meuclidean_distances\u001b[0;34m(X, Y, Y_norm_squared, squared, X_norm_squared)\u001b[0m\n\u001b[1;32m    328\u001b[0m             )\n\u001b[1;32m    329\u001b[0m \u001b[0;34m\u001b[0m\u001b[0m\n\u001b[0;32m--> 330\u001b[0;31m     \u001b[0;32mreturn\u001b[0m \u001b[0m_euclidean_distances\u001b[0m\u001b[0;34m(\u001b[0m\u001b[0mX\u001b[0m\u001b[0;34m,\u001b[0m \u001b[0mY\u001b[0m\u001b[0;34m,\u001b[0m \u001b[0mX_norm_squared\u001b[0m\u001b[0;34m,\u001b[0m \u001b[0mY_norm_squared\u001b[0m\u001b[0;34m,\u001b[0m \u001b[0msquared\u001b[0m\u001b[0;34m)\u001b[0m\u001b[0;34m\u001b[0m\u001b[0;34m\u001b[0m\u001b[0m\n\u001b[0m\u001b[1;32m    331\u001b[0m \u001b[0;34m\u001b[0m\u001b[0m\n\u001b[1;32m    332\u001b[0m \u001b[0;34m\u001b[0m\u001b[0m\n",
      "\u001b[0;32m/mnt/nvme/siqi/anaconda3/envs/st/lib/python3.9/site-packages/sklearn/metrics/pairwise.py\u001b[0m in \u001b[0;36m_euclidean_distances\u001b[0;34m(X, Y, X_norm_squared, Y_norm_squared, squared)\u001b[0m\n\u001b[1;32m    366\u001b[0m         \u001b[0;31m# To minimize precision issues with float32, we compute the distance\u001b[0m\u001b[0;34m\u001b[0m\u001b[0;34m\u001b[0m\u001b[0m\n\u001b[1;32m    367\u001b[0m         \u001b[0;31m# matrix on chunks of X and Y upcast to float64\u001b[0m\u001b[0;34m\u001b[0m\u001b[0;34m\u001b[0m\u001b[0m\n\u001b[0;32m--> 368\u001b[0;31m         \u001b[0mdistances\u001b[0m \u001b[0;34m=\u001b[0m \u001b[0m_euclidean_distances_upcast\u001b[0m\u001b[0;34m(\u001b[0m\u001b[0mX\u001b[0m\u001b[0;34m,\u001b[0m \u001b[0mXX\u001b[0m\u001b[0;34m,\u001b[0m \u001b[0mY\u001b[0m\u001b[0;34m,\u001b[0m \u001b[0mYY\u001b[0m\u001b[0;34m)\u001b[0m\u001b[0;34m\u001b[0m\u001b[0;34m\u001b[0m\u001b[0m\n\u001b[0m\u001b[1;32m    369\u001b[0m     \u001b[0;32melse\u001b[0m\u001b[0;34m:\u001b[0m\u001b[0;34m\u001b[0m\u001b[0;34m\u001b[0m\u001b[0m\n\u001b[1;32m    370\u001b[0m         \u001b[0;31m# if dtype is already float64, no need to chunk and upcast\u001b[0m\u001b[0;34m\u001b[0m\u001b[0;34m\u001b[0m\u001b[0m\n",
      "\u001b[0;32m/mnt/nvme/siqi/anaconda3/envs/st/lib/python3.9/site-packages/sklearn/metrics/pairwise.py\u001b[0m in \u001b[0;36m_euclidean_distances_upcast\u001b[0;34m(X, XX, Y, YY, batch_size)\u001b[0m\n\u001b[1;32m    563\u001b[0m                     \u001b[0mYY_chunk\u001b[0m \u001b[0;34m=\u001b[0m \u001b[0mYY\u001b[0m\u001b[0;34m[\u001b[0m\u001b[0;34m:\u001b[0m\u001b[0;34m,\u001b[0m \u001b[0my_slice\u001b[0m\u001b[0;34m]\u001b[0m\u001b[0;34m\u001b[0m\u001b[0;34m\u001b[0m\u001b[0m\n\u001b[1;32m    564\u001b[0m \u001b[0;34m\u001b[0m\u001b[0m\n\u001b[0;32m--> 565\u001b[0;31m                 \u001b[0md\u001b[0m \u001b[0;34m=\u001b[0m \u001b[0;34m-\u001b[0m\u001b[0;36m2\u001b[0m \u001b[0;34m*\u001b[0m \u001b[0msafe_sparse_dot\u001b[0m\u001b[0;34m(\u001b[0m\u001b[0mX_chunk\u001b[0m\u001b[0;34m,\u001b[0m \u001b[0mY_chunk\u001b[0m\u001b[0;34m.\u001b[0m\u001b[0mT\u001b[0m\u001b[0;34m,\u001b[0m \u001b[0mdense_output\u001b[0m\u001b[0;34m=\u001b[0m\u001b[0;32mTrue\u001b[0m\u001b[0;34m)\u001b[0m\u001b[0;34m\u001b[0m\u001b[0;34m\u001b[0m\u001b[0m\n\u001b[0m\u001b[1;32m    566\u001b[0m                 \u001b[0md\u001b[0m \u001b[0;34m+=\u001b[0m \u001b[0mXX_chunk\u001b[0m\u001b[0;34m\u001b[0m\u001b[0;34m\u001b[0m\u001b[0m\n\u001b[1;32m    567\u001b[0m                 \u001b[0md\u001b[0m \u001b[0;34m+=\u001b[0m \u001b[0mYY_chunk\u001b[0m\u001b[0;34m\u001b[0m\u001b[0;34m\u001b[0m\u001b[0m\n",
      "\u001b[0;32m/mnt/nvme/siqi/anaconda3/envs/st/lib/python3.9/site-packages/sklearn/utils/extmath.py\u001b[0m in \u001b[0;36msafe_sparse_dot\u001b[0;34m(a, b, dense_output)\u001b[0m\n\u001b[1;32m    151\u001b[0m             \u001b[0mret\u001b[0m \u001b[0;34m=\u001b[0m \u001b[0mnp\u001b[0m\u001b[0;34m.\u001b[0m\u001b[0mdot\u001b[0m\u001b[0;34m(\u001b[0m\u001b[0ma\u001b[0m\u001b[0;34m,\u001b[0m \u001b[0mb\u001b[0m\u001b[0;34m)\u001b[0m\u001b[0;34m\u001b[0m\u001b[0;34m\u001b[0m\u001b[0m\n\u001b[1;32m    152\u001b[0m     \u001b[0;32melse\u001b[0m\u001b[0;34m:\u001b[0m\u001b[0;34m\u001b[0m\u001b[0;34m\u001b[0m\u001b[0m\n\u001b[0;32m--> 153\u001b[0;31m         \u001b[0mret\u001b[0m \u001b[0;34m=\u001b[0m \u001b[0ma\u001b[0m \u001b[0;34m@\u001b[0m \u001b[0mb\u001b[0m\u001b[0;34m\u001b[0m\u001b[0;34m\u001b[0m\u001b[0m\n\u001b[0m\u001b[1;32m    154\u001b[0m \u001b[0;34m\u001b[0m\u001b[0m\n\u001b[1;32m    155\u001b[0m     if (\n",
      "\u001b[0;31mKeyboardInterrupt\u001b[0m: "
     ]
    }
   ],
   "source": [
    "print('Processing Reference')\n",
    "dots = projector.fit_transform(all_features)\n",
    "\n",
    "dots_per_lang = []\n",
    "cnt = 0\n",
    "for lang_id in range(len(langs)):\n",
    "    dots_per_lang.append(dots[cnt:cnt+n_labels[lang_id]])\n",
    "    cnt += n_labels[lang_id]\n",
    "\n",
    "os.makedirs('figures/ref')\n",
    "\n",
    "for i, lang_i in enumerate(langs):\n",
    "    for j, lang_j in enumerate(langs):\n",
    "        if i < j:\n",
    "            df = pd.DataFrame(columns=['x', 'y', 'lang'])\n",
    "            xs = []\n",
    "            ys = []\n",
    "            ls = []\n",
    "            xs.extend(dots_per_lang[i][:, 0].tolist())\n",
    "            ys.extend(dots_per_lang[i][:, 1].tolist())\n",
    "            xs.extend(dots_per_lang[j][:, 0].tolist())\n",
    "            ys.extend(dots_per_lang[j][:, 1].tolist())\n",
    "            ls.extend([lang_i] * n_labels[i])\n",
    "            ls.extend([lang_j] * n_labels[j])\n",
    "            df['x'] = xs\n",
    "            df['y'] = ys\n",
    "            df['lang'] = ls\n",
    "            sns.jointplot(data=df, x='x', y='y', hue='lang', kind='kde')\n",
    "            plt.savefig('figures/ref/ref_{}_{}.pdf'.format(lang_i, lang_j))\n",
    "            plt.close()"
   ]
  },
  {
   "cell_type": "code",
   "execution_count": null,
   "metadata": {},
   "outputs": [],
   "source": []
  }
 ],
 "metadata": {
  "interpreter": {
   "hash": "a68cd4a7ef308fe1097ac63f4e85e531ee114d7b566f56457f8a7bdc63a1a0bb"
  },
  "kernelspec": {
   "display_name": "Python 3.9.7 ('st')",
   "language": "python",
   "name": "python3"
  },
  "language_info": {
   "codemirror_mode": {
    "name": "ipython",
    "version": 3
   },
   "file_extension": ".py",
   "mimetype": "text/x-python",
   "name": "python",
   "nbconvert_exporter": "python",
   "pygments_lexer": "ipython3",
   "version": "3.9.7"
  },
  "orig_nbformat": 4
 },
 "nbformat": 4,
 "nbformat_minor": 2
}

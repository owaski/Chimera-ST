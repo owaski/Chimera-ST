{
 "cells": [
  {
   "cell_type": "code",
   "execution_count": 1,
   "metadata": {},
   "outputs": [],
   "source": [
    "import os\n",
    "os.environ['CUDA_VISIBLE_DEVICES'] = '7'"
   ]
  },
  {
   "cell_type": "code",
   "execution_count": 42,
   "metadata": {},
   "outputs": [],
   "source": [
    "import random\n",
    "\n",
    "import torch as th\n",
    "from torch.utils.data import Dataset, Sampler, DataLoader\n",
    "from transformers import BertTokenizer, BertModel\n",
    "\n",
    "from sentence_transformers import SentenceTransformer\n",
    "\n",
    "import numpy as np\n",
    "import scipy.linalg as linalg\n",
    "\n",
    "from tqdm.notebook import tqdm\n",
    "import matplotlib as mp\n",
    "import matplotlib.pyplot as plt\n",
    "import matplotlib.colors as colors\n",
    "\n",
    "# import umap\n",
    "from sklearn.manifold import TSNE, MDS, Isomap\n",
    "from sklearn.decomposition import PCA\n",
    "from sklearn.preprocessing import StandardScaler\n",
    "from sklearn.cluster import KMeans, MiniBatchKMeans, AgglomerativeClustering, DBSCAN\n",
    "from sklearn.pipeline import Pipeline\n",
    "import fastcluster\n",
    "import pandas as pd\n",
    "import seaborn as sns\n",
    "\n",
    "import faiss\n",
    "\n",
    "from examples.speech_to_text.data_utils import load_df_from_tsv"
   ]
  },
  {
   "cell_type": "code",
   "execution_count": 3,
   "metadata": {},
   "outputs": [],
   "source": [
    "root = '/mnt/raid0/siqi/datasets/covost2'\n",
    "langs = [\"fr\", \"de\", \"es\", \"fa\", \"it\", \"ru\", \"pt\", \"zh-CN\", \"tr\", \"ar\", \"et\", \"mn\", \"nl\", \"sv-SE\", \"lv\", \"sl\", \"ta\", \"ja\", \"id\"]\n",
    "os.makedirs('resources', exist_ok=True)\n",
    "device='cuda'"
   ]
  },
  {
   "cell_type": "code",
   "execution_count": 37,
   "metadata": {},
   "outputs": [
    {
     "data": {
      "application/vnd.jupyter.widget-view+json": {
       "model_id": "33d1e9d642854752a71fb2bd74fdd16e",
       "version_major": 2,
       "version_minor": 0
      },
      "text/plain": [
       "  0%|          | 0/19 [00:00<?, ?it/s]"
      ]
     },
     "metadata": {},
     "output_type": "display_data"
    }
   ],
   "source": [
    "all_features = []\n",
    "n_labels = []\n",
    "for i in tqdm(range(len(langs))):\n",
    "    features = np.load('resources/train_{}.npy'.format(langs[i]))\n",
    "    n_labels.append(features.shape[0])\n",
    "    all_features.append(features)\n",
    "all_features = np.concatenate(all_features, axis=0)"
   ]
  },
  {
   "cell_type": "code",
   "execution_count": 38,
   "metadata": {},
   "outputs": [],
   "source": [
    "tgt_texts_per_lang = []\n",
    "for lang in langs:\n",
    "    df = load_df_from_tsv(os.path.join(root, lang, 'train_st_{}_en.tsv'.format(lang)))\n",
    "    tgt_texts = df['tgt_text'].tolist()\n",
    "    tgt_texts_per_lang.append(tgt_texts)"
   ]
  },
  {
   "cell_type": "code",
   "execution_count": 62,
   "metadata": {},
   "outputs": [],
   "source": [
    "low_lang = 'sv-SE'\n",
    "low_idx = langs.index(low_lang)\n",
    "n_low = n_labels[low_idx]\n",
    "\n",
    "high_lang = 'de'\n",
    "high_idx = langs.index(high_lang)\n",
    "n_high = n_labels[high_idx]\n",
    "\n",
    "high_start = sum(n_labels[:high_idx])\n",
    "high_end = sum(n_labels[:high_idx + 1])\n",
    "\n",
    "low_start = sum(n_labels[:low_idx])\n",
    "low_end = sum(n_labels[:low_idx + 1])\n",
    "\n",
    "tgt_texts_high = np.array(tgt_texts_per_lang[high_idx])\n",
    "tgt_texts_low = np.array(tgt_texts_per_lang[low_idx])\n",
    "\n",
    "high_features = all_features[high_start : high_end]\n",
    "low_features = all_features[low_start : low_end]"
   ]
  },
  {
   "cell_type": "code",
   "execution_count": 51,
   "metadata": {},
   "outputs": [],
   "source": [
    "index = faiss.IndexFlatIP(all_features.shape[1])\n",
    "index.add(high_features)\n",
    "high_neighbors = index.search(low_features, 5)[1]"
   ]
  },
  {
   "cell_type": "code",
   "execution_count": 63,
   "metadata": {},
   "outputs": [],
   "source": [
    "high_neighbors = np.unique(high_neighbors.flatten())\n",
    "extracted_high_features = high_features[high_neighbors]"
   ]
  },
  {
   "cell_type": "code",
   "execution_count": 123,
   "metadata": {},
   "outputs": [],
   "source": [
    "# n_cluster = 200\n",
    "max_dist = 1\n",
    "clusterer = AgglomerativeClustering(n_clusters=None, linkage='complete', distance_threshold=max_dist)\n",
    "labels = clusterer.fit_predict(low_features)"
   ]
  },
  {
   "cell_type": "code",
   "execution_count": 109,
   "metadata": {},
   "outputs": [
    {
     "data": {
      "text/plain": [
       "(0, 7367, 0, 2160)"
      ]
     },
     "execution_count": 109,
     "metadata": {},
     "output_type": "execute_result"
    }
   ],
   "source": [
    "extracted_high_mask = np.ones(features.shape[0], dtype=bool)\n",
    "extracted_high_mask[extracted_high_features.shape[0] : ] = False\n",
    "(labels == -1).sum(), extracted_high_mask.sum(), (labels[~extracted_high_mask] == -1).sum(), low_features.shape[0]"
   ]
  },
  {
   "cell_type": "code",
   "execution_count": 114,
   "metadata": {},
   "outputs": [
    {
     "data": {
      "text/plain": [
       "(6, 10)"
      ]
     },
     "execution_count": 114,
     "metadata": {},
     "output_type": "execute_result"
    }
   ],
   "source": [
    "(labels == 0).sum()"
   ]
  },
  {
   "cell_type": "code",
   "execution_count": 111,
   "metadata": {},
   "outputs": [
    {
     "data": {
      "text/plain": [
       "2277"
      ]
     },
     "execution_count": 111,
     "metadata": {},
     "output_type": "execute_result"
    }
   ],
   "source": [
    "n_cluster = labels.max() + 1\n",
    "n_cluster"
   ]
  },
  {
   "cell_type": "code",
   "execution_count": 112,
   "metadata": {},
   "outputs": [],
   "source": [
    "tgt_texts = np.concatenate([tgt_texts_high[high_neighbors], tgt_texts_low])\n",
    "tgt_texts_per_cluster = []\n",
    "for idx in range(n_cluster):\n",
    "    tgt_texts_per_cluster.append(tgt_texts[labels == idx])"
   ]
  },
  {
   "cell_type": "code",
   "execution_count": 116,
   "metadata": {},
   "outputs": [
    {
     "data": {
      "text/plain": [
       "684"
      ]
     },
     "execution_count": 116,
     "metadata": {},
     "output_type": "execute_result"
    }
   ],
   "source": [
    "cluster_sizes = np.array([len(tgt_texts_per_cluster[idx]) for idx in range(n_cluster)])\n",
    "# sns.displot(cluster_sizes)\n",
    "(cluster_sizes == 1).sum()"
   ]
  },
  {
   "cell_type": "code",
   "execution_count": null,
   "metadata": {},
   "outputs": [],
   "source": []
  }
 ],
 "metadata": {
  "interpreter": {
   "hash": "a68cd4a7ef308fe1097ac63f4e85e531ee114d7b566f56457f8a7bdc63a1a0bb"
  },
  "kernelspec": {
   "display_name": "Python 3.9.7 ('st')",
   "language": "python",
   "name": "python3"
  },
  "language_info": {
   "codemirror_mode": {
    "name": "ipython",
    "version": 3
   },
   "file_extension": ".py",
   "mimetype": "text/x-python",
   "name": "python",
   "nbconvert_exporter": "python",
   "pygments_lexer": "ipython3",
   "version": "3.9.7"
  },
  "orig_nbformat": 4
 },
 "nbformat": 4,
 "nbformat_minor": 2
}

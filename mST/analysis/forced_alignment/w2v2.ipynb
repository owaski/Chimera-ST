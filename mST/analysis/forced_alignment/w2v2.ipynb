{
 "cells": [
  {
   "cell_type": "code",
   "execution_count": 92,
   "metadata": {},
   "outputs": [],
   "source": [
    "import os\n",
    "from dataclasses import dataclass\n",
    "\n",
    "import IPython\n",
    "import matplotlib\n",
    "import matplotlib.pyplot as plt\n",
    "import requests\n",
    "import torch\n",
    "import torchaudio\n",
    "from tqdm import tqdm\n",
    "import pandas as pd"
   ]
  },
  {
   "cell_type": "code",
   "execution_count": 2,
   "metadata": {},
   "outputs": [],
   "source": [
    "matplotlib.rcParams[\"figure.figsize\"] = [16.0, 4.8]"
   ]
  },
  {
   "cell_type": "code",
   "execution_count": 3,
   "metadata": {},
   "outputs": [],
   "source": [
    "torch.random.manual_seed(0)\n",
    "device = torch.device(\"cuda:4\")"
   ]
  },
  {
   "cell_type": "code",
   "execution_count": 6,
   "metadata": {},
   "outputs": [],
   "source": [
    "wav_file = \"/mnt/raid0/siqi/datasets/covost2/en/16kHz/common_voice_en_96413.wav\""
   ]
  },
  {
   "cell_type": "code",
   "execution_count": 5,
   "metadata": {},
   "outputs": [
    {
     "name": "stderr",
     "output_type": "stream",
     "text": [
      "Downloading: \"https://download.pytorch.org/torchaudio/models/wav2vec2_fairseq_large_lv60k_asr_ls960.pth\" to /home/siqi/.cache/torch/hub/checkpoints/wav2vec2_fairseq_large_lv60k_asr_ls960.pth\n"
     ]
    },
    {
     "data": {
      "application/vnd.jupyter.widget-view+json": {
       "model_id": "c6adf8d19f544c47b9f00a57877dfa04",
       "version_major": 2,
       "version_minor": 0
      },
      "text/plain": [
       "  0%|          | 0.00/1.18G [00:00<?, ?B/s]"
      ]
     },
     "metadata": {},
     "output_type": "display_data"
    }
   ],
   "source": [
    "bundle = torchaudio.pipelines.WAV2VEC2_ASR_LARGE_LV60K_960H\n",
    "model = bundle.get_model().to(device)\n",
    "labels = bundle.get_labels()"
   ]
  },
  {
   "cell_type": "code",
   "execution_count": 8,
   "metadata": {},
   "outputs": [],
   "source": [
    "with torch.inference_mode():\n",
    "    waveform, _ = torchaudio.load(wav_file)\n",
    "    emissions, _ = model(waveform.to(device))\n",
    "    emissions = torch.log_softmax(emissions, dim=-1)\n",
    "emission = emissions[0].cpu().detach()"
   ]
  },
  {
   "cell_type": "code",
   "execution_count": 11,
   "metadata": {},
   "outputs": [
    {
     "name": "stdout",
     "output_type": "stream",
     "text": [
      "('<s>', '<pad>', '</s>', '<unk>', '|', 'E', 'T', 'A', 'O', 'N', 'I', 'H', 'S', 'R', 'D', 'L', 'U', 'M', 'W', 'C', 'F', 'G', 'Y', 'P', 'B', 'V', 'K', \"'\", 'X', 'J', 'Q', 'Z')\n"
     ]
    },
    {
     "data": {
      "image/png": "[encoded data removed]",
      "text/plain": [
       "<Figure size 1152x345.6 with 2 Axes>"
      ]
     },
     "metadata": {
      "needs_background": "light"
     },
     "output_type": "display_data"
    }
   ],
   "source": [
    "print(labels)\n",
    "plt.imshow(emission.T)\n",
    "plt.colorbar()\n",
    "plt.title(\"Frame-wise class probability\")\n",
    "plt.xlabel(\"Time\")\n",
    "plt.ylabel(\"Labels\")\n",
    "plt.show()"
   ]
  },
  {
   "cell_type": "code",
   "execution_count": 12,
   "metadata": {},
   "outputs": [
    {
     "name": "stdout",
     "output_type": "stream",
     "text": [
      "[('T', 6), ('H', 11), ('A', 7), ('T', 6), (\"'\", 27), ('S', 12), ('|', 4), ('A', 7), ('|', 4), ('L', 15), ('O', 8), ('T', 6), ('|', 4), ('O', 8), ('F', 20), ('|', 4), ('G', 21), ('O', 8), ('L', 15), ('D', 14)]\n"
     ]
    }
   ],
   "source": [
    "transcript = \"THAT'S|A|LOT|OF|GOLD\"\n",
    "dictionary = {c: i for i, c in enumerate(labels)}\n",
    "tokens = [dictionary[c] for c in transcript]\n",
    "print(list(zip(transcript, tokens)))"
   ]
  },
  {
   "cell_type": "code",
   "execution_count": 13,
   "metadata": {},
   "outputs": [],
   "source": [
    "def get_trellis(emission, tokens, blank_id=0):\n",
    "    num_frame = emission.size(0)\n",
    "    num_tokens = len(tokens)\n",
    "\n",
    "    # Trellis has extra diemsions for both time axis and tokens.\n",
    "    # The extra dim for tokens represents <SoS> (start-of-sentence)\n",
    "    # The extra dim for time axis is for simplification of the code.\n",
    "    trellis = torch.full((num_frame + 1, num_tokens + 1), -float(\"inf\"))\n",
    "    trellis[:, 0] = 0\n",
    "    for t in range(num_frame):\n",
    "        trellis[t + 1, 1:] = torch.maximum(\n",
    "            # Score for staying at the same token\n",
    "            trellis[t, 1:] + emission[t, blank_id],\n",
    "            # Score for changing to the next token\n",
    "            trellis[t, :-1] + emission[t, tokens],\n",
    "        )\n",
    "    return trellis\n",
    "\n",
    "\n",
    "trellis = get_trellis(emission, tokens)"
   ]
  },
  {
   "cell_type": "code",
   "execution_count": 15,
   "metadata": {},
   "outputs": [
    {
     "name": "stdout",
     "output_type": "stream",
     "text": [
      "[Point(token_index=0, time_index=45, score=0.9989526271820068), Point(token_index=1, time_index=46, score=0.9969344139099121), Point(token_index=1, time_index=47, score=0.39028412103652954), Point(token_index=1, time_index=48, score=0.9998880624771118), Point(token_index=1, time_index=49, score=0.9998891353607178), Point(token_index=1, time_index=50, score=0.9998946189880371), Point(token_index=2, time_index=51, score=0.9920342564582825), Point(token_index=2, time_index=52, score=0.9996565580368042), Point(token_index=2, time_index=53, score=0.9998213648796082), Point(token_index=3, time_index=54, score=0.9985499978065491), Point(token_index=3, time_index=55, score=0.9914244413375854), Point(token_index=4, time_index=56, score=0.9906483292579651), Point(token_index=4, time_index=57, score=0.9299869537353516), Point(token_index=5, time_index=58, score=0.9959588646888733), Point(token_index=6, time_index=59, score=0.9945911169052124), Point(token_index=6, time_index=60, score=0.024770667776465416), Point(token_index=6, time_index=61, score=0.9998317956924438), Point(token_index=6, time_index=62, score=0.9998277425765991), Point(token_index=6, time_index=63, score=0.9995380640029907), Point(token_index=6, time_index=64, score=0.9956865310668945), Point(token_index=7, time_index=65, score=0.9818345904350281), Point(token_index=7, time_index=66, score=0.4780965745449066), Point(token_index=8, time_index=67, score=0.9381203055381775), Point(token_index=8, time_index=68, score=0.999784529209137), Point(token_index=8, time_index=69, score=0.9998378753662109), Point(token_index=9, time_index=70, score=0.9998791217803955), Point(token_index=9, time_index=71, score=0.9998773336410522), Point(token_index=9, time_index=72, score=0.9998701810836792), Point(token_index=9, time_index=73, score=0.9998917579650879), Point(token_index=10, time_index=74, score=0.9989540576934814), Point(token_index=10, time_index=75, score=0.999674916267395), Point(token_index=10, time_index=76, score=0.9998511075973511), Point(token_index=11, time_index=77, score=0.9994128942489624), Point(token_index=11, time_index=78, score=0.9998489618301392), Point(token_index=11, time_index=79, score=0.024168789386749268), Point(token_index=12, time_index=80, score=0.9842709898948669), Point(token_index=12, time_index=81, score=0.9998565912246704), Point(token_index=13, time_index=82, score=0.9995545744895935), Point(token_index=14, time_index=83, score=0.9982265830039978), Point(token_index=14, time_index=84, score=0.9998794794082642), Point(token_index=14, time_index=85, score=4.448162508197129e-05), Point(token_index=15, time_index=86, score=0.9985737800598145), Point(token_index=15, time_index=87, score=0.0008390233851969242), Point(token_index=15, time_index=88, score=0.9938010573387146), Point(token_index=16, time_index=89, score=0.9993340373039246), Point(token_index=16, time_index=90, score=0.9998859167098999), Point(token_index=16, time_index=91, score=0.9998828172683716), Point(token_index=16, time_index=92, score=0.9998657703399658), Point(token_index=16, time_index=93, score=0.9998539686203003), Point(token_index=16, time_index=94, score=0.9998699426651001), Point(token_index=16, time_index=95, score=0.9998698234558105), Point(token_index=16, time_index=96, score=0.9998632669448853), Point(token_index=16, time_index=97, score=0.9998610019683838), Point(token_index=16, time_index=98, score=0.9998538494110107), Point(token_index=17, time_index=99, score=0.99916672706604), Point(token_index=17, time_index=100, score=0.9998301267623901), Point(token_index=17, time_index=101, score=0.98692387342453), Point(token_index=18, time_index=102, score=0.9990787506103516), Point(token_index=18, time_index=103, score=0.999871015548706), Point(token_index=18, time_index=104, score=0.9998397827148438), Point(token_index=18, time_index=105, score=0.9998568296432495), Point(token_index=19, time_index=106, score=0.9979037046432495)]\n"
     ]
    }
   ],
   "source": [
    "@dataclass\n",
    "class Point:\n",
    "    token_index: int\n",
    "    time_index: int\n",
    "    score: float\n",
    "\n",
    "\n",
    "def backtrack(trellis, emission, tokens, blank_id=0):\n",
    "    # Note:\n",
    "    # j and t are indices for trellis, which has extra dimensions\n",
    "    # for time and tokens at the beginning.\n",
    "    # When referring to time frame index `T` in trellis,\n",
    "    # the corresponding index in emission is `T-1`.\n",
    "    # Similarly, when referring to token index `J` in trellis,\n",
    "    # the corresponding index in transcript is `J-1`.\n",
    "    j = trellis.size(1) - 1\n",
    "    t_start = torch.argmax(trellis[:, j]).item()\n",
    "\n",
    "    path = []\n",
    "    for t in range(t_start, 0, -1):\n",
    "        # 1. Figure out if the current position was stay or change\n",
    "        # Note (again):\n",
    "        # `emission[J-1]` is the emission at time frame `J` of trellis dimension.\n",
    "        # Score for token staying the same from time frame J-1 to T.\n",
    "        stayed = trellis[t - 1, j] + emission[t - 1, blank_id]\n",
    "        # Score for token changing from C-1 at T-1 to J at T.\n",
    "        changed = trellis[t - 1, j - 1] + emission[t - 1, tokens[j - 1]]\n",
    "\n",
    "        # 2. Store the path with frame-wise probability.\n",
    "        prob = emission[t - 1, tokens[j - 1] if changed > stayed else 0].exp().item()\n",
    "        # Return token index and time index in non-trellis coordinate.\n",
    "        path.append(Point(j - 1, t - 1, prob))\n",
    "\n",
    "        # 3. Update the token\n",
    "        if changed > stayed:\n",
    "            j -= 1\n",
    "            if j == 0:\n",
    "                break\n",
    "    else:\n",
    "        raise ValueError(\"Failed to align\")\n",
    "    return path[::-1]\n",
    "\n",
    "\n",
    "path = backtrack(trellis, emission, tokens)\n",
    "print(path)"
   ]
  },
  {
   "cell_type": "code",
   "execution_count": 16,
   "metadata": {},
   "outputs": [
    {
     "data": {
      "image/png": "[encoded data removed]",
      "text/plain": [
       "<Figure size 1152x345.6 with 1 Axes>"
      ]
     },
     "metadata": {
      "needs_background": "light"
     },
     "output_type": "display_data"
    }
   ],
   "source": [
    "def plot_trellis_with_path(trellis, path):\n",
    "    # To plot trellis with path, we take advantage of 'nan' value\n",
    "    trellis_with_path = trellis.clone()\n",
    "    for _, p in enumerate(path):\n",
    "        trellis_with_path[p.time_index, p.token_index] = float(\"nan\")\n",
    "    plt.imshow(trellis_with_path[1:, 1:].T, origin=\"lower\")\n",
    "\n",
    "\n",
    "plot_trellis_with_path(trellis, path)\n",
    "plt.title(\"The path found by backtracking\")\n",
    "plt.show()"
   ]
  },
  {
   "cell_type": "code",
   "execution_count": 17,
   "metadata": {},
   "outputs": [
    {
     "name": "stdout",
     "output_type": "stream",
     "text": [
      "T\t(1.00): [   45,    46)\n",
      "H\t(0.88): [   46,    51)\n",
      "A\t(1.00): [   51,    54)\n",
      "T\t(0.99): [   54,    56)\n",
      "'\t(0.96): [   56,    58)\n",
      "S\t(1.00): [   58,    59)\n",
      "|\t(0.84): [   59,    65)\n",
      "A\t(0.73): [   65,    67)\n",
      "|\t(0.98): [   67,    70)\n",
      "L\t(1.00): [   70,    74)\n",
      "O\t(1.00): [   74,    77)\n",
      "T\t(0.67): [   77,    80)\n",
      "|\t(0.99): [   80,    82)\n",
      "O\t(1.00): [   82,    83)\n",
      "F\t(0.67): [   83,    86)\n",
      "|\t(0.66): [   86,    89)\n",
      "G\t(1.00): [   89,    99)\n",
      "O\t(1.00): [   99,   102)\n",
      "L\t(1.00): [  102,   106)\n",
      "D\t(1.00): [  106,   107)\n"
     ]
    }
   ],
   "source": [
    "# Merge the labels\n",
    "@dataclass\n",
    "class Segment:\n",
    "    label: str\n",
    "    start: int\n",
    "    end: int\n",
    "    score: float\n",
    "\n",
    "    def __repr__(self):\n",
    "        return f\"{self.label}\\t({self.score:4.2f}): [{self.start:5d}, {self.end:5d})\"\n",
    "\n",
    "    @property\n",
    "    def length(self):\n",
    "        return self.end - self.start\n",
    "\n",
    "\n",
    "def merge_repeats(path):\n",
    "    i1, i2 = 0, 0\n",
    "    segments = []\n",
    "    while i1 < len(path):\n",
    "        while i2 < len(path) and path[i1].token_index == path[i2].token_index:\n",
    "            i2 += 1\n",
    "        score = sum(path[k].score for k in range(i1, i2)) / (i2 - i1)\n",
    "        segments.append(\n",
    "            Segment(\n",
    "                transcript[path[i1].token_index],\n",
    "                path[i1].time_index,\n",
    "                path[i2 - 1].time_index + 1,\n",
    "                score,\n",
    "            )\n",
    "        )\n",
    "        i1 = i2\n",
    "    return segments\n",
    "\n",
    "\n",
    "segments = merge_repeats(path)\n",
    "for seg in segments:\n",
    "    print(seg)"
   ]
  },
  {
   "cell_type": "code",
   "execution_count": 18,
   "metadata": {},
   "outputs": [
    {
     "data": {
      "image/png": "[encoded data removed]",
      "text/plain": [
       "<Figure size 1152x684 with 2 Axes>"
      ]
     },
     "metadata": {
      "needs_background": "light"
     },
     "output_type": "display_data"
    }
   ],
   "source": [
    "def plot_trellis_with_segments(trellis, segments, transcript):\n",
    "    # To plot trellis with path, we take advantage of 'nan' value\n",
    "    trellis_with_path = trellis.clone()\n",
    "    for i, seg in enumerate(segments):\n",
    "        if seg.label != \"|\":\n",
    "            trellis_with_path[seg.start + 1 : seg.end + 1, i + 1] = float(\"nan\")\n",
    "\n",
    "    fig, [ax1, ax2] = plt.subplots(2, 1, figsize=(16, 9.5))\n",
    "    ax1.set_title(\"Path, label and probability for each label\")\n",
    "    ax1.imshow(trellis_with_path.T, origin=\"lower\")\n",
    "    ax1.set_xticks([])\n",
    "\n",
    "    for i, seg in enumerate(segments):\n",
    "        if seg.label != \"|\":\n",
    "            ax1.annotate(seg.label, (seg.start + 0.7, i + 0.3), weight=\"bold\")\n",
    "            ax1.annotate(f\"{seg.score:.2f}\", (seg.start - 0.3, i + 4.3))\n",
    "\n",
    "    ax2.set_title(\"Label probability with and without repetation\")\n",
    "    xs, hs, ws = [], [], []\n",
    "    for seg in segments:\n",
    "        if seg.label != \"|\":\n",
    "            xs.append((seg.end + seg.start) / 2 + 0.4)\n",
    "            hs.append(seg.score)\n",
    "            ws.append(seg.end - seg.start)\n",
    "            ax2.annotate(seg.label, (seg.start + 0.8, -0.07), weight=\"bold\")\n",
    "    ax2.bar(xs, hs, width=ws, color=\"gray\", alpha=0.5, edgecolor=\"black\")\n",
    "\n",
    "    xs, hs = [], []\n",
    "    for p in path:\n",
    "        label = transcript[p.token_index]\n",
    "        if label != \"|\":\n",
    "            xs.append(p.time_index + 1)\n",
    "            hs.append(p.score)\n",
    "\n",
    "    ax2.bar(xs, hs, width=0.5, alpha=0.5)\n",
    "    ax2.axhline(0, color=\"black\")\n",
    "    ax2.set_xlim(ax1.get_xlim())\n",
    "    ax2.set_ylim(-0.1, 1.1)\n",
    "\n",
    "\n",
    "plot_trellis_with_segments(trellis, segments, transcript)\n",
    "plt.tight_layout()\n",
    "plt.show()"
   ]
  },
  {
   "cell_type": "code",
   "execution_count": 19,
   "metadata": {},
   "outputs": [
    {
     "name": "stdout",
     "output_type": "stream",
     "text": [
      "THAT'S\t(0.95): [   45,    59)\n",
      "A\t(0.73): [   65,    67)\n",
      "LOT\t(0.90): [   70,    80)\n",
      "OF\t(0.75): [   82,    86)\n",
      "GOLD\t(1.00): [   89,   107)\n"
     ]
    }
   ],
   "source": [
    "# Merge words\n",
    "def merge_words(segments, separator=\"|\"):\n",
    "    words = []\n",
    "    i1, i2 = 0, 0\n",
    "    while i1 < len(segments):\n",
    "        if i2 >= len(segments) or segments[i2].label == separator:\n",
    "            if i1 != i2:\n",
    "                segs = segments[i1:i2]\n",
    "                word = \"\".join([seg.label for seg in segs])\n",
    "                score = sum(seg.score * seg.length for seg in segs) / sum(seg.length for seg in segs)\n",
    "                words.append(Segment(word, segments[i1].start, segments[i2 - 1].end, score))\n",
    "            i1 = i2 + 1\n",
    "            i2 = i1\n",
    "        else:\n",
    "            i2 += 1\n",
    "    return words\n",
    "\n",
    "\n",
    "word_segments = merge_words(segments)\n",
    "for word in word_segments:\n",
    "    print(word)"
   ]
  },
  {
   "cell_type": "code",
   "execution_count": 59,
   "metadata": {},
   "outputs": [
    {
     "data": {
      "text/plain": [
       "THAT'S\t(0.95): [   45,    59)"
      ]
     },
     "execution_count": 59,
     "metadata": {},
     "output_type": "execute_result"
    }
   ],
   "source": [
    "word_segments[0]"
   ]
  },
  {
   "cell_type": "code",
   "execution_count": 20,
   "metadata": {},
   "outputs": [
    {
     "data": {
      "image/png": "[encoded data removed]",
      "text/plain": [
       "<Figure size 1152x684 with 2 Axes>"
      ]
     },
     "metadata": {
      "needs_background": "light"
     },
     "output_type": "display_data"
    }
   ],
   "source": [
    "def plot_alignments(trellis, segments, word_segments, waveform):\n",
    "    trellis_with_path = trellis.clone()\n",
    "    for i, seg in enumerate(segments):\n",
    "        if seg.label != \"|\":\n",
    "            trellis_with_path[seg.start + 1 : seg.end + 1, i + 1] = float(\"nan\")\n",
    "\n",
    "    fig, [ax1, ax2] = plt.subplots(2, 1, figsize=(16, 9.5))\n",
    "\n",
    "    ax1.imshow(trellis_with_path[1:, 1:].T, origin=\"lower\")\n",
    "    ax1.set_xticks([])\n",
    "    ax1.set_yticks([])\n",
    "\n",
    "    for word in word_segments:\n",
    "        ax1.axvline(word.start - 0.5)\n",
    "        ax1.axvline(word.end - 0.5)\n",
    "\n",
    "    for i, seg in enumerate(segments):\n",
    "        if seg.label != \"|\":\n",
    "            ax1.annotate(seg.label, (seg.start, i + 0.3))\n",
    "            ax1.annotate(f\"{seg.score:.2f}\", (seg.start, i + 4), fontsize=8)\n",
    "\n",
    "    # The original waveform\n",
    "    ratio = waveform.size(0) / (trellis.size(0) - 1)\n",
    "    ax2.plot(waveform)\n",
    "    for word in word_segments:\n",
    "        x0 = ratio * word.start\n",
    "        x1 = ratio * word.end\n",
    "        ax2.axvspan(x0, x1, alpha=0.1, color=\"red\")\n",
    "        ax2.annotate(f\"{word.score:.2f}\", (x0, 0.8))\n",
    "\n",
    "    for seg in segments:\n",
    "        if seg.label != \"|\":\n",
    "            ax2.annotate(seg.label, (seg.start * ratio, 0.9))\n",
    "    xticks = ax2.get_xticks()\n",
    "    plt.xticks(xticks, xticks / bundle.sample_rate)\n",
    "    ax2.set_xlabel(\"time [second]\")\n",
    "    ax2.set_yticks([])\n",
    "    ax2.set_ylim(-1.0, 1.0)\n",
    "    ax2.set_xlim(0, waveform.size(-1))\n",
    "\n",
    "\n",
    "plot_alignments(\n",
    "    trellis,\n",
    "    segments,\n",
    "    word_segments,\n",
    "    waveform[0],\n",
    ")\n",
    "plt.show()\n",
    "\n",
    "\n",
    "# A trick to embed the resulting audio to the generated file.\n",
    "# `IPython.display.Audio` has to be the last call in a cell,\n",
    "# and there should be only one call par cell.\n",
    "def display_segment(i):\n",
    "    ratio = waveform.size(1) / (trellis.size(0) - 1)\n",
    "    word = word_segments[i]\n",
    "    x0 = int(ratio * word.start)\n",
    "    x1 = int(ratio * word.end)\n",
    "    filename = f\"_assets/{i}_{word.label}.wav\"\n",
    "    torchaudio.save(filename, waveform[:, x0:x1], bundle.sample_rate)\n",
    "    print(f\"{word.label} ({word.score:.2f}): {x0 / bundle.sample_rate:.3f} - {x1 / bundle.sample_rate:.3f} sec\")\n",
    "    return IPython.display.Audio(filename)"
   ]
  },
  {
   "cell_type": "code",
   "execution_count": null,
   "metadata": {},
   "outputs": [],
   "source": []
  },
  {
   "cell_type": "markdown",
   "metadata": {},
   "source": [
    "# CTC forced align MuST-C"
   ]
  },
  {
   "cell_type": "code",
   "execution_count": 109,
   "metadata": {},
   "outputs": [],
   "source": [
    "import re\n",
    "\n",
    "import soundfile\n",
    "\n",
    "from examples.speech_to_text.data_utils import load_df_from_tsv"
   ]
  },
  {
   "cell_type": "code",
   "execution_count": 56,
   "metadata": {},
   "outputs": [],
   "source": [
    "mustc_root = '/mnt/raid0/siqi/datasets/must-c'\n",
    "train_df = load_df_from_tsv(os.path.join(mustc_root, 'en-de/train_wave.tsv'))"
   ]
  },
  {
   "cell_type": "code",
   "execution_count": 49,
   "metadata": {},
   "outputs": [],
   "source": [
    "noises = ['(Applause)', '(Audience)', '(Audio)', '(Beat)', '(Beatboxing)', '(Beep)', '(Beeps)', '(Cheering)', '(Cheers)', '(Claps)', '(Clicking)', '(Clunk)', '(Coughs)', \\\n",
    "    '(Drums)', '(Explosion)', '(Gasps)', '(Guitar)', '(Honk)', '(Laugher)', '(Laughing)', '(Laughs)', '(Laughter)', '(Mumbling)', '(Music)', '(Noise)', '(Recording)', \\\n",
    "    '(Ringing)', '(Shouts)', '(Sigh)', '(Sighs)', '(Silence)', '(Singing)', '(Sings)', '(Spanish)', '(Static)', '(Tones)', '(Trumpet)', '(Video)', '(Voice-over)', \\\n",
    "    '(Whistle)', '(Whistling)', '(video)']"
   ]
  },
  {
   "cell_type": "code",
   "execution_count": 119,
   "metadata": {},
   "outputs": [
    {
     "data": {
      "text/plain": [
       "'AG:'"
      ]
     },
     "execution_count": 119,
     "metadata": {},
     "output_type": "execute_result"
    }
   ],
   "source": [
    "re.match(\"(.{,20}:).*\", 'AG:1').group(1)"
   ]
  },
  {
   "cell_type": "code",
   "execution_count": 132,
   "metadata": {},
   "outputs": [],
   "source": [
    "def clean(text):\n",
    "    prefix = re.match(\"(.{,20}:).*\", text)\n",
    "    if prefix is not None:\n",
    "        text = text[len(prefix.group(1)):]\n",
    "    for noise in noises:\n",
    "        text = text.replace(noise, '')\n",
    "    tokens = []\n",
    "    for c in text:\n",
    "        if c.isalpha():\n",
    "            if c.upper() in dictionary:\n",
    "                tokens.append(c.upper())\n",
    "        elif c == \"'\":\n",
    "            tokens.append(c)\n",
    "        else:\n",
    "            tokens.append('|')\n",
    "    transcript = []\n",
    "    for c in tokens:\n",
    "        if c == '|':\n",
    "            if len(transcript) > 0 and transcript[-1] != '|':\n",
    "                transcript.append(c)\n",
    "        else:\n",
    "            transcript.append(c)\n",
    "    if len(transcript) > 0 and transcript[-1] == '|':\n",
    "        transcript.pop()\n",
    "    \n",
    "    return ''.join(transcript)"
   ]
  },
  {
   "cell_type": "code",
   "execution_count": 133,
   "metadata": {},
   "outputs": [
    {
     "name": "stderr",
     "output_type": "stream",
     "text": [
      "14838 mismatch found:  69%|██████▉   | 158260/229657 [3:30:19<1:34:53, 12.54it/s]\n"
     ]
    },
    {
     "ename": "KeyboardInterrupt",
     "evalue": "",
     "output_type": "error",
     "traceback": [
      "\u001b[0;31m---------------------------------------------------------------------------\u001b[0m",
      "\u001b[0;31mKeyboardInterrupt\u001b[0m                         Traceback (most recent call last)",
      "\u001b[0;32m/tmp/ipykernel_31016/2623126113.py\u001b[0m in \u001b[0;36m<module>\u001b[0;34m\u001b[0m\n\u001b[1;32m     12\u001b[0m         \u001b[0memissions\u001b[0m\u001b[0;34m,\u001b[0m \u001b[0m_\u001b[0m \u001b[0;34m=\u001b[0m \u001b[0mmodel\u001b[0m\u001b[0;34m(\u001b[0m\u001b[0mwaveform\u001b[0m\u001b[0;34m.\u001b[0m\u001b[0mto\u001b[0m\u001b[0;34m(\u001b[0m\u001b[0mdevice\u001b[0m\u001b[0;34m)\u001b[0m\u001b[0;34m)\u001b[0m\u001b[0;34m\u001b[0m\u001b[0;34m\u001b[0m\u001b[0m\n\u001b[1;32m     13\u001b[0m         \u001b[0memissions\u001b[0m \u001b[0;34m=\u001b[0m \u001b[0mtorch\u001b[0m\u001b[0;34m.\u001b[0m\u001b[0mlog_softmax\u001b[0m\u001b[0;34m(\u001b[0m\u001b[0memissions\u001b[0m\u001b[0;34m,\u001b[0m \u001b[0mdim\u001b[0m\u001b[0;34m=\u001b[0m\u001b[0;34m-\u001b[0m\u001b[0;36m1\u001b[0m\u001b[0;34m)\u001b[0m\u001b[0;34m\u001b[0m\u001b[0;34m\u001b[0m\u001b[0m\n\u001b[0;32m---> 14\u001b[0;31m     \u001b[0memission\u001b[0m \u001b[0;34m=\u001b[0m \u001b[0memissions\u001b[0m\u001b[0;34m[\u001b[0m\u001b[0;36m0\u001b[0m\u001b[0;34m]\u001b[0m\u001b[0;34m.\u001b[0m\u001b[0mcpu\u001b[0m\u001b[0;34m(\u001b[0m\u001b[0;34m)\u001b[0m\u001b[0;34m.\u001b[0m\u001b[0mdetach\u001b[0m\u001b[0;34m(\u001b[0m\u001b[0;34m)\u001b[0m\u001b[0;34m\u001b[0m\u001b[0;34m\u001b[0m\u001b[0m\n\u001b[0m\u001b[1;32m     15\u001b[0m \u001b[0;34m\u001b[0m\u001b[0m\n\u001b[1;32m     16\u001b[0m     \u001b[0mtranscript\u001b[0m \u001b[0;34m=\u001b[0m \u001b[0mclean\u001b[0m\u001b[0;34m(\u001b[0m\u001b[0mrow\u001b[0m\u001b[0;34m[\u001b[0m\u001b[0;34m'src_text'\u001b[0m\u001b[0;34m]\u001b[0m\u001b[0;34m)\u001b[0m\u001b[0;34m\u001b[0m\u001b[0;34m\u001b[0m\u001b[0m\n",
      "\u001b[0;31mKeyboardInterrupt\u001b[0m: "
     ]
    }
   ],
   "source": [
    "mismatch_df = pd.DataFrame(columns=train_df.columns)\n",
    "iterator = tqdm(train_df.iterrows(), total=train_df.shape[0], desc='0 mismatch found')\n",
    "for _, row in iterator:\n",
    "    splits = row['audio'].split(':')\n",
    "    ori_start, ori_duration = splits[-2:]\n",
    "    ori_start, ori_duration = int(ori_start), int(ori_duration)\n",
    "    \n",
    "    wav_file = os.path.join(mustc_root, ''.join(splits[:-2]))\n",
    "    with torch.inference_mode():\n",
    "        waveform, _ = torchaudio.load(wav_file, \\\n",
    "            frame_offset=max(ori_start - 3 * 16000, 0), num_frames=ori_duration + 6 * 16000)\n",
    "        emissions, _ = model(waveform.to(device))\n",
    "        emissions = torch.log_softmax(emissions, dim=-1)\n",
    "    emission = emissions[0].cpu().detach()\n",
    "\n",
    "    transcript = clean(row['src_text'])\n",
    "    if transcript == '':\n",
    "        continue\n",
    "    tokens = [dictionary[c] for c in transcript]\n",
    "    trellis = get_trellis(emission, tokens)\n",
    "    path = backtrack(trellis, emission, tokens)\n",
    "    segments = merge_repeats(path)\n",
    "    word_segments = merge_words(segments)\n",
    "\n",
    "    ratio = waveform.size(1) / (trellis.size(0) - 1)\n",
    "    start = ratio * word_segments[0].start\n",
    "    end = ratio * word_segments[-1].end\n",
    "\n",
    "    if start < 2.75 * 16000 or end > waveform.size(1) - 2.75 * 16000:\n",
    "        mismatch_df = mismatch_df.append(row, ignore_index=True)\n",
    "        iterator.set_description('{} mismatch found'.format(mismatch_df.shape[0]))"
   ]
  },
  {
   "cell_type": "code",
   "execution_count": 126,
   "metadata": {},
   "outputs": [
    {
     "name": "stderr",
     "output_type": "stream",
     "text": [
      "100%|██████████| 21/21 [00:07<00:00,  2.67it/s]\n"
     ]
    }
   ],
   "source": [
    "string = '<table>\\n'\n",
    "string += '\\t<tr>\\n\\t\\t<th>Transcript</th>\\n\\t\\t<th>Translation</th>\\n\\t\\t<th>Source Audio</th>\\n\\t</tr>\\n'\n",
    "for i in tqdm(range(mismatch_df.shape[0])):\n",
    "    match = re.match('(.*):(\\d+):(\\d+)', mismatch_df['audio'][i])\n",
    "    wav = os.path.join(mustc_root, match.group(1))\n",
    "    speech_array, sampling_rate = soundfile.read( wav )\n",
    "    speech_array = speech_array[int(match.group(2)):int(match.group(2))+int(match.group(3))]\n",
    "    soundfile.write('resources/train-mismatch/audio_{}.wav'.format(i), speech_array, 16000)\n",
    "    string += '\\t<tr>\\n\\t\\t<td>{}</td>\\n\\t\\t<td>{}</td>\\n\\t\\t<td>{}</td>\\n\\t</tr>\\n'.format(\\\n",
    "        mismatch_df['src_text'][i], mismatch_df['tgt_text'][i], \\\n",
    "        '<audio controls><source src=\"train-mismatch/audio_{}.wav\" type=\"audio/wav\"></audio>'.format(i))\n",
    "string += '</table>'"
   ]
  },
  {
   "cell_type": "code",
   "execution_count": 134,
   "metadata": {},
   "outputs": [],
   "source": [
    "with open('train-mismatch.html', 'w') as w:\n",
    "    w.write(string)"
   ]
  },
  {
   "cell_type": "code",
   "execution_count": null,
   "metadata": {},
   "outputs": [],
   "source": []
  },
  {
   "cell_type": "code",
   "execution_count": null,
   "metadata": {},
   "outputs": [],
   "source": []
  }
 ],
 "metadata": {
  "interpreter": {
   "hash": "a68cd4a7ef308fe1097ac63f4e85e531ee114d7b566f56457f8a7bdc63a1a0bb"
  },
  "kernelspec": {
   "display_name": "Python 3.9.7 64-bit ('st': conda)",
   "language": "python",
   "name": "python3"
  },
  "language_info": {
   "codemirror_mode": {
    "name": "ipython",
    "version": 3
   },
   "file_extension": ".py",
   "mimetype": "text/x-python",
   "name": "python",
   "nbconvert_exporter": "python",
   "pygments_lexer": "ipython3",
   "version": "3.9.7"
  },
  "orig_nbformat": 4
 },
 "nbformat": 4,
 "nbformat_minor": 2
}

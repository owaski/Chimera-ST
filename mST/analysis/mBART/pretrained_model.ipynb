{
 "cells": [
  {
   "cell_type": "code",
   "execution_count": 1,
   "metadata": {},
   "outputs": [],
   "source": [
    "import torch as th\n",
    "import torch.nn as nn\n",
    "import torch.nn.functional as F\n",
    "\n",
    "from transformers import MBartForConditionalGeneration, MBart50TokenizerFast"
   ]
  },
  {
   "cell_type": "code",
   "execution_count": 2,
   "metadata": {},
   "outputs": [],
   "source": [
    "model = MBartForConditionalGeneration.from_pretrained(\"facebook/mbart-large-50-many-to-one-mmt\")\n",
    "tokenizer = MBart50TokenizerFast.from_pretrained(\"facebook/mbart-large-50-many-to-one-mmt\", src_lang=\"zh_CN\", tgt_lang=\"en_XX\")"
   ]
  },
  {
   "cell_type": "code",
   "execution_count": 3,
   "metadata": {},
   "outputs": [],
   "source": [
    "model2 = th.load('/mnt/raid0/siqi/checkpoints/pretrained/mbart50.ft.n1/model.pt')"
   ]
  },
  {
   "cell_type": "code",
   "execution_count": 4,
   "metadata": {},
   "outputs": [],
   "source": [
    "input_ids = [250025,      6,  72286,  28226,  58016,  68195, 245543, 118902,   7051, 19752,  13641,     30,      2]\n",
    "labels = [  250004, 1061,    191,    764,    509,    456,      9,  30962,   3674,    237,        70, 185256,  93324,     47,   8060,    136,    148,  48672,   1810,    19963,     66,      5,      2,      1,      1]"
   ]
  },
  {
   "cell_type": "code",
   "execution_count": 5,
   "metadata": {},
   "outputs": [],
   "source": [
    "model.eval()\n",
    "device = 'cuda'\n",
    "model = model.to(device)\n",
    "outputs = model(input_ids=th.LongTensor([input_ids]).to(device), labels=th.LongTensor([labels]).to(device), output_hidden_states=True)"
   ]
  },
  {
   "cell_type": "code",
   "execution_count": 30,
   "metadata": {},
   "outputs": [
    {
     "data": {
      "text/plain": [
       "tensor([[250004,   1529,    191,   7103,    509,  19574,    162, 140545,   3674,\n",
       "             70,  47749,  47749,    111,    111,  78431,     70,  78431,  48672,\n",
       "           1810,  19963,     66,      5,      2, 250004,      5]],\n",
       "       device='cuda:0')"
      ]
     },
     "execution_count": 30,
     "metadata": {},
     "output_type": "execute_result"
    }
   ],
   "source": [
    "outputs.logits.argmax(dim=-1)"
   ]
  },
  {
   "cell_type": "code",
   "execution_count": 10,
   "metadata": {},
   "outputs": [],
   "source": [
    "hf_param = th.load('../tmp/hf.pt')\n",
    "fs_param = th.load('../tmp/fs.pt')"
   ]
  },
  {
   "cell_type": "code",
   "execution_count": 12,
   "metadata": {},
   "outputs": [
    {
     "data": {
      "text/plain": [
       "tensor([[[ 0.0385,  0.0989, -0.3345,  ..., -0.4580, -0.7559, -1.5159],\n",
       "         [-0.4181,  0.1508, -0.2684,  ...,  0.0602,  0.4919,  1.7497],\n",
       "         [ 1.5350, -0.7008, -0.4443,  ..., -0.0767, -1.3779, -0.2458],\n",
       "         ...,\n",
       "         [ 1.0730,  0.2572,  1.5042,  ...,  1.9011, -0.3405,  0.4455],\n",
       "         [ 1.1314,  0.7993, -0.0759,  ...,  0.9245,  1.3507,  0.7078],\n",
       "         [-0.2375, -0.1657, -0.2034,  ...,  0.4091,  1.1246,  0.5692]]],\n",
       "       device='cuda:0', requires_grad=True)"
      ]
     },
     "execution_count": 12,
     "metadata": {},
     "output_type": "execute_result"
    }
   ],
   "source": [
    "hf_param[1]"
   ]
  },
  {
   "cell_type": "code",
   "execution_count": 13,
   "metadata": {},
   "outputs": [
    {
     "data": {
      "text/plain": [
       "tensor([[ 0.0385,  0.0989, -0.3344,  ..., -0.4580, -0.7559, -1.5160],\n",
       "        [-0.4181,  0.1510, -0.2686,  ...,  0.0604,  0.4920,  1.7495],\n",
       "        [ 1.5350, -0.7006, -0.4443,  ..., -0.0768, -1.3778, -0.2458],\n",
       "        ...,\n",
       "        [-0.1056,  1.5038,  0.8549,  ...,  0.7578,  1.1643,  0.4014],\n",
       "        [-0.1056,  1.5038,  0.8549,  ...,  0.7578,  1.1643,  0.4014],\n",
       "        [-0.1056,  1.5038,  0.8549,  ...,  0.7578,  1.1643,  0.4014]],\n",
       "       device='cuda:0', requires_grad=True)"
      ]
     },
     "execution_count": 13,
     "metadata": {},
     "output_type": "execute_result"
    }
   ],
   "source": [
    "fs_param[1]"
   ]
  },
  {
   "cell_type": "code",
   "execution_count": 27,
   "metadata": {},
   "outputs": [
    {
     "data": {
      "text/plain": [
       "tensor(-1.0141e-06, device='cuda:0', grad_fn=<MeanBackward0>)"
      ]
     },
     "execution_count": 27,
     "metadata": {},
     "output_type": "execute_result"
    }
   ],
   "source": [
    "(hf_param[13] - fs_param[13][:13]).mean()"
   ]
  },
  {
   "cell_type": "code",
   "execution_count": null,
   "metadata": {},
   "outputs": [],
   "source": []
  }
 ],
 "metadata": {
  "interpreter": {
   "hash": "a68cd4a7ef308fe1097ac63f4e85e531ee114d7b566f56457f8a7bdc63a1a0bb"
  },
  "kernelspec": {
   "display_name": "Python 3.9.7 64-bit ('st': conda)",
   "language": "python",
   "name": "python3"
  },
  "language_info": {
   "codemirror_mode": {
    "name": "ipython",
    "version": 3
   },
   "file_extension": ".py",
   "mimetype": "text/x-python",
   "name": "python",
   "nbconvert_exporter": "python",
   "pygments_lexer": "ipython3",
   "version": "3.9.7"
  },
  "orig_nbformat": 4
 },
 "nbformat": 4,
 "nbformat_minor": 2
}

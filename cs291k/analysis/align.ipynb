{
 "cells": [
  {
   "cell_type": "code",
   "execution_count": 32,
   "metadata": {},
   "outputs": [],
   "source": [
    "import os\n",
    "import numpy as np\n",
    "import matplotlib.pyplot as plt\n",
    "import sentencepiece as spm\n",
    "import torch as th"
   ]
  },
  {
   "cell_type": "code",
   "execution_count": 5,
   "metadata": {},
   "outputs": [],
   "source": [
    "cif_seg = [ 0.0000,  0.1429,  0.7755,  1.0408,  1.2449,  1.4898,  1.6939,  3.0612,\n",
    "         3.2449,  3.5510,  4.6735,  5.1020,  5.3673,  5.6122,  6.4082,  7.1837,\n",
    "         8.3469,  9.6735, 10.9592, 12.1837, 12.4490, 12.9184, 13.1633, 13.4286,\n",
    "        13.6939, 13.8776]"
   ]
  },
  {
   "cell_type": "code",
   "execution_count": 22,
   "metadata": {},
   "outputs": [],
   "source": [
    "cif_without_align_seg = [ 0.0000,  0.4694,  0.6327,  0.8980,  1.0204,  1.1633,  1.3878,  1.5102,\n",
    "         3.0612,  3.2041,  3.6122,  4.9184,  5.1020,  5.2041,  5.4490,  5.7347,\n",
    "        11.7551, 12.2653, 12.3878, 12.5918, 12.8980, 13.0816, 13.2245, 13.4490,\n",
    "        13.6735, 13.8776]"
   ]
  },
  {
   "cell_type": "code",
   "execution_count": 29,
   "metadata": {},
   "outputs": [],
   "source": [
    "real_seg = [0., 0.2, 0.3, 0.55, 0.73, 1.06, 1.19, 1.81, 3.36, 3.92, 5.04, 5.31, 5.64, 11.98, 12.10, 12.6, \n",
    "            12.82, 13.08, 13.62]"
   ]
  },
  {
   "cell_type": "code",
   "execution_count": 30,
   "metadata": {},
   "outputs": [
    {
     "data": {
      "text/plain": [
       "<StemContainer object of 3 artists>"
      ]
     },
     "execution_count": 30,
     "metadata": {},
     "output_type": "execute_result"
    },
    {
     "data": {
      "image/png": "[encoded data removed]",
      "text/plain": [
       "<Figure size 600x400 with 1 Axes>"
      ]
     },
     "metadata": {
      "needs_background": "light"
     },
     "output_type": "display_data"
    }
   ],
   "source": [
    "plt.figure(dpi=100)\n",
    "plt.stem(real_seg, np.ones_like(real_seg) * 2, markerfmt='none', linefmt='orange')\n",
    "plt.stem(cif_seg, np.ones_like(cif_seg), markerfmt='none', linefmt='blue')"
   ]
  },
  {
   "cell_type": "code",
   "execution_count": 31,
   "metadata": {},
   "outputs": [
    {
     "data": {
      "text/plain": [
       "<StemContainer object of 3 artists>"
      ]
     },
     "execution_count": 31,
     "metadata": {},
     "output_type": "execute_result"
    },
    {
     "data": {
      "image/png": "[encoded data removed]",
      "text/plain": [
       "<Figure size 600x400 with 1 Axes>"
      ]
     },
     "metadata": {
      "needs_background": "light"
     },
     "output_type": "display_data"
    }
   ],
   "source": [
    "plt.figure(dpi=100)\n",
    "plt.stem(real_seg, np.ones_like(real_seg) * 2, markerfmt='none', linefmt='orange')\n",
    "plt.stem(cif_without_align_seg, np.ones_like(cif_without_align_seg), markerfmt='none', linefmt='blue')"
   ]
  },
  {
   "cell_type": "code",
   "execution_count": 16,
   "metadata": {},
   "outputs": [
    {
     "data": {
      "text/plain": [
       "True"
      ]
     },
     "execution_count": 16,
     "metadata": {},
     "output_type": "execute_result"
    }
   ],
   "source": [
    "bpe = spm.SentencePieceProcessor()\n",
    "bpe.Load('/home/ubuntu/work/datasets/must-c/en-de/spm_unigram10000_wave_joint.model')"
   ]
  },
  {
   "cell_type": "code",
   "execution_count": 21,
   "metadata": {},
   "outputs": [
    {
     "name": "stdout",
     "output_type": "stream",
     "text": [
      "['▁And', '▁I', '▁say', '▁that', '▁since', 're', 'ly', ',', '▁part', 'ly', '▁because', '▁', '(', 'M', 'ock', '▁so', 'b', ')', '▁I', '▁need', '▁that', '.', '▁', '(', 'L', 'a', 'ught', 'er', ')', '▁put', '▁yourself', '▁in', '▁my', '▁position']\n"
     ]
    }
   ],
   "source": [
    "print(bpe.EncodeAsPieces(\"And I say that sincerely, partly because (Mock sob) I need that. (Laughter) put yourself in my position\" ))"
   ]
  },
  {
   "cell_type": "code",
   "execution_count": 58,
   "metadata": {},
   "outputs": [],
   "source": [
    "ids = bpe.EncodeAsIds(\"And I say that sincerely, partly because (Mock sob) I need that. (Laughter)\")"
   ]
  },
  {
   "cell_type": "code",
   "execution_count": 33,
   "metadata": {},
   "outputs": [],
   "source": [
    "st_feature = th.load('/home/ubuntu/work/experiments/tmp/st_feature.pt')"
   ]
  },
  {
   "cell_type": "code",
   "execution_count": 35,
   "metadata": {},
   "outputs": [],
   "source": [
    "model = th.load('/home/ubuntu/work/experiments/checkpoints/st-pretrained-noalign/checkpoint_best.pt')"
   ]
  },
  {
   "cell_type": "code",
   "execution_count": 39,
   "metadata": {},
   "outputs": [
    {
     "data": {
      "text/plain": [
       "odict_keys(['encoder.w2v_model.mask_emb', 'encoder.w2v_model.feature_extractor.conv_layers.0.0.weight', 'encoder.w2v_model.feature_extractor.conv_layers.0.2.weight', 'encoder.w2v_model.feature_extractor.conv_layers.0.2.bias', 'encoder.w2v_model.feature_extractor.conv_layers.1.0.weight', 'encoder.w2v_model.feature_extractor.conv_layers.2.0.weight', 'encoder.w2v_model.feature_extractor.conv_layers.3.0.weight', 'encoder.w2v_model.feature_extractor.conv_layers.4.0.weight', 'encoder.w2v_model.feature_extractor.conv_layers.5.0.weight', 'encoder.w2v_model.feature_extractor.conv_layers.6.0.weight', 'encoder.w2v_model.post_extract_proj.weight', 'encoder.w2v_model.post_extract_proj.bias', 'encoder.w2v_model.quantizer.vars', 'encoder.w2v_model.quantizer.weight_proj.weight', 'encoder.w2v_model.quantizer.weight_proj.bias', 'encoder.w2v_model.project_q.weight', 'encoder.w2v_model.project_q.bias', 'encoder.w2v_model.encoder.pos_conv.0.bias', 'encoder.w2v_model.encoder.pos_conv.0.weight_g', 'encoder.w2v_model.encoder.pos_conv.0.weight_v', 'encoder.w2v_model.encoder.layers.0.self_attn.k_proj.weight', 'encoder.w2v_model.encoder.layers.0.self_attn.k_proj.bias', 'encoder.w2v_model.encoder.layers.0.self_attn.v_proj.weight', 'encoder.w2v_model.encoder.layers.0.self_attn.v_proj.bias', 'encoder.w2v_model.encoder.layers.0.self_attn.q_proj.weight', 'encoder.w2v_model.encoder.layers.0.self_attn.q_proj.bias', 'encoder.w2v_model.encoder.layers.0.self_attn.out_proj.weight', 'encoder.w2v_model.encoder.layers.0.self_attn.out_proj.bias', 'encoder.w2v_model.encoder.layers.0.self_attn_layer_norm.weight', 'encoder.w2v_model.encoder.layers.0.self_attn_layer_norm.bias', 'encoder.w2v_model.encoder.layers.0.fc1.weight', 'encoder.w2v_model.encoder.layers.0.fc1.bias', 'encoder.w2v_model.encoder.layers.0.fc2.weight', 'encoder.w2v_model.encoder.layers.0.fc2.bias', 'encoder.w2v_model.encoder.layers.0.final_layer_norm.weight', 'encoder.w2v_model.encoder.layers.0.final_layer_norm.bias', 'encoder.w2v_model.encoder.layers.1.self_attn.k_proj.weight', 'encoder.w2v_model.encoder.layers.1.self_attn.k_proj.bias', 'encoder.w2v_model.encoder.layers.1.self_attn.v_proj.weight', 'encoder.w2v_model.encoder.layers.1.self_attn.v_proj.bias', 'encoder.w2v_model.encoder.layers.1.self_attn.q_proj.weight', 'encoder.w2v_model.encoder.layers.1.self_attn.q_proj.bias', 'encoder.w2v_model.encoder.layers.1.self_attn.out_proj.weight', 'encoder.w2v_model.encoder.layers.1.self_attn.out_proj.bias', 'encoder.w2v_model.encoder.layers.1.self_attn_layer_norm.weight', 'encoder.w2v_model.encoder.layers.1.self_attn_layer_norm.bias', 'encoder.w2v_model.encoder.layers.1.fc1.weight', 'encoder.w2v_model.encoder.layers.1.fc1.bias', 'encoder.w2v_model.encoder.layers.1.fc2.weight', 'encoder.w2v_model.encoder.layers.1.fc2.bias', 'encoder.w2v_model.encoder.layers.1.final_layer_norm.weight', 'encoder.w2v_model.encoder.layers.1.final_layer_norm.bias', 'encoder.w2v_model.encoder.layers.2.self_attn.k_proj.weight', 'encoder.w2v_model.encoder.layers.2.self_attn.k_proj.bias', 'encoder.w2v_model.encoder.layers.2.self_attn.v_proj.weight', 'encoder.w2v_model.encoder.layers.2.self_attn.v_proj.bias', 'encoder.w2v_model.encoder.layers.2.self_attn.q_proj.weight', 'encoder.w2v_model.encoder.layers.2.self_attn.q_proj.bias', 'encoder.w2v_model.encoder.layers.2.self_attn.out_proj.weight', 'encoder.w2v_model.encoder.layers.2.self_attn.out_proj.bias', 'encoder.w2v_model.encoder.layers.2.self_attn_layer_norm.weight', 'encoder.w2v_model.encoder.layers.2.self_attn_layer_norm.bias', 'encoder.w2v_model.encoder.layers.2.fc1.weight', 'encoder.w2v_model.encoder.layers.2.fc1.bias', 'encoder.w2v_model.encoder.layers.2.fc2.weight', 'encoder.w2v_model.encoder.layers.2.fc2.bias', 'encoder.w2v_model.encoder.layers.2.final_layer_norm.weight', 'encoder.w2v_model.encoder.layers.2.final_layer_norm.bias', 'encoder.w2v_model.encoder.layers.3.self_attn.k_proj.weight', 'encoder.w2v_model.encoder.layers.3.self_attn.k_proj.bias', 'encoder.w2v_model.encoder.layers.3.self_attn.v_proj.weight', 'encoder.w2v_model.encoder.layers.3.self_attn.v_proj.bias', 'encoder.w2v_model.encoder.layers.3.self_attn.q_proj.weight', 'encoder.w2v_model.encoder.layers.3.self_attn.q_proj.bias', 'encoder.w2v_model.encoder.layers.3.self_attn.out_proj.weight', 'encoder.w2v_model.encoder.layers.3.self_attn.out_proj.bias', 'encoder.w2v_model.encoder.layers.3.self_attn_layer_norm.weight', 'encoder.w2v_model.encoder.layers.3.self_attn_layer_norm.bias', 'encoder.w2v_model.encoder.layers.3.fc1.weight', 'encoder.w2v_model.encoder.layers.3.fc1.bias', 'encoder.w2v_model.encoder.layers.3.fc2.weight', 'encoder.w2v_model.encoder.layers.3.fc2.bias', 'encoder.w2v_model.encoder.layers.3.final_layer_norm.weight', 'encoder.w2v_model.encoder.layers.3.final_layer_norm.bias', 'encoder.w2v_model.encoder.layers.4.self_attn.k_proj.weight', 'encoder.w2v_model.encoder.layers.4.self_attn.k_proj.bias', 'encoder.w2v_model.encoder.layers.4.self_attn.v_proj.weight', 'encoder.w2v_model.encoder.layers.4.self_attn.v_proj.bias', 'encoder.w2v_model.encoder.layers.4.self_attn.q_proj.weight', 'encoder.w2v_model.encoder.layers.4.self_attn.q_proj.bias', 'encoder.w2v_model.encoder.layers.4.self_attn.out_proj.weight', 'encoder.w2v_model.encoder.layers.4.self_attn.out_proj.bias', 'encoder.w2v_model.encoder.layers.4.self_attn_layer_norm.weight', 'encoder.w2v_model.encoder.layers.4.self_attn_layer_norm.bias', 'encoder.w2v_model.encoder.layers.4.fc1.weight', 'encoder.w2v_model.encoder.layers.4.fc1.bias', 'encoder.w2v_model.encoder.layers.4.fc2.weight', 'encoder.w2v_model.encoder.layers.4.fc2.bias', 'encoder.w2v_model.encoder.layers.4.final_layer_norm.weight', 'encoder.w2v_model.encoder.layers.4.final_layer_norm.bias', 'encoder.w2v_model.encoder.layers.5.self_attn.k_proj.weight', 'encoder.w2v_model.encoder.layers.5.self_attn.k_proj.bias', 'encoder.w2v_model.encoder.layers.5.self_attn.v_proj.weight', 'encoder.w2v_model.encoder.layers.5.self_attn.v_proj.bias', 'encoder.w2v_model.encoder.layers.5.self_attn.q_proj.weight', 'encoder.w2v_model.encoder.layers.5.self_attn.q_proj.bias', 'encoder.w2v_model.encoder.layers.5.self_attn.out_proj.weight', 'encoder.w2v_model.encoder.layers.5.self_attn.out_proj.bias', 'encoder.w2v_model.encoder.layers.5.self_attn_layer_norm.weight', 'encoder.w2v_model.encoder.layers.5.self_attn_layer_norm.bias', 'encoder.w2v_model.encoder.layers.5.fc1.weight', 'encoder.w2v_model.encoder.layers.5.fc1.bias', 'encoder.w2v_model.encoder.layers.5.fc2.weight', 'encoder.w2v_model.encoder.layers.5.fc2.bias', 'encoder.w2v_model.encoder.layers.5.final_layer_norm.weight', 'encoder.w2v_model.encoder.layers.5.final_layer_norm.bias', 'encoder.w2v_model.encoder.layers.6.self_attn.k_proj.weight', 'encoder.w2v_model.encoder.layers.6.self_attn.k_proj.bias', 'encoder.w2v_model.encoder.layers.6.self_attn.v_proj.weight', 'encoder.w2v_model.encoder.layers.6.self_attn.v_proj.bias', 'encoder.w2v_model.encoder.layers.6.self_attn.q_proj.weight', 'encoder.w2v_model.encoder.layers.6.self_attn.q_proj.bias', 'encoder.w2v_model.encoder.layers.6.self_attn.out_proj.weight', 'encoder.w2v_model.encoder.layers.6.self_attn.out_proj.bias', 'encoder.w2v_model.encoder.layers.6.self_attn_layer_norm.weight', 'encoder.w2v_model.encoder.layers.6.self_attn_layer_norm.bias', 'encoder.w2v_model.encoder.layers.6.fc1.weight', 'encoder.w2v_model.encoder.layers.6.fc1.bias', 'encoder.w2v_model.encoder.layers.6.fc2.weight', 'encoder.w2v_model.encoder.layers.6.fc2.bias', 'encoder.w2v_model.encoder.layers.6.final_layer_norm.weight', 'encoder.w2v_model.encoder.layers.6.final_layer_norm.bias', 'encoder.w2v_model.encoder.layers.7.self_attn.k_proj.weight', 'encoder.w2v_model.encoder.layers.7.self_attn.k_proj.bias', 'encoder.w2v_model.encoder.layers.7.self_attn.v_proj.weight', 'encoder.w2v_model.encoder.layers.7.self_attn.v_proj.bias', 'encoder.w2v_model.encoder.layers.7.self_attn.q_proj.weight', 'encoder.w2v_model.encoder.layers.7.self_attn.q_proj.bias', 'encoder.w2v_model.encoder.layers.7.self_attn.out_proj.weight', 'encoder.w2v_model.encoder.layers.7.self_attn.out_proj.bias', 'encoder.w2v_model.encoder.layers.7.self_attn_layer_norm.weight', 'encoder.w2v_model.encoder.layers.7.self_attn_layer_norm.bias', 'encoder.w2v_model.encoder.layers.7.fc1.weight', 'encoder.w2v_model.encoder.layers.7.fc1.bias', 'encoder.w2v_model.encoder.layers.7.fc2.weight', 'encoder.w2v_model.encoder.layers.7.fc2.bias', 'encoder.w2v_model.encoder.layers.7.final_layer_norm.weight', 'encoder.w2v_model.encoder.layers.7.final_layer_norm.bias', 'encoder.w2v_model.encoder.layers.8.self_attn.k_proj.weight', 'encoder.w2v_model.encoder.layers.8.self_attn.k_proj.bias', 'encoder.w2v_model.encoder.layers.8.self_attn.v_proj.weight', 'encoder.w2v_model.encoder.layers.8.self_attn.v_proj.bias', 'encoder.w2v_model.encoder.layers.8.self_attn.q_proj.weight', 'encoder.w2v_model.encoder.layers.8.self_attn.q_proj.bias', 'encoder.w2v_model.encoder.layers.8.self_attn.out_proj.weight', 'encoder.w2v_model.encoder.layers.8.self_attn.out_proj.bias', 'encoder.w2v_model.encoder.layers.8.self_attn_layer_norm.weight', 'encoder.w2v_model.encoder.layers.8.self_attn_layer_norm.bias', 'encoder.w2v_model.encoder.layers.8.fc1.weight', 'encoder.w2v_model.encoder.layers.8.fc1.bias', 'encoder.w2v_model.encoder.layers.8.fc2.weight', 'encoder.w2v_model.encoder.layers.8.fc2.bias', 'encoder.w2v_model.encoder.layers.8.final_layer_norm.weight', 'encoder.w2v_model.encoder.layers.8.final_layer_norm.bias', 'encoder.w2v_model.encoder.layers.9.self_attn.k_proj.weight', 'encoder.w2v_model.encoder.layers.9.self_attn.k_proj.bias', 'encoder.w2v_model.encoder.layers.9.self_attn.v_proj.weight', 'encoder.w2v_model.encoder.layers.9.self_attn.v_proj.bias', 'encoder.w2v_model.encoder.layers.9.self_attn.q_proj.weight', 'encoder.w2v_model.encoder.layers.9.self_attn.q_proj.bias', 'encoder.w2v_model.encoder.layers.9.self_attn.out_proj.weight', 'encoder.w2v_model.encoder.layers.9.self_attn.out_proj.bias', 'encoder.w2v_model.encoder.layers.9.self_attn_layer_norm.weight', 'encoder.w2v_model.encoder.layers.9.self_attn_layer_norm.bias', 'encoder.w2v_model.encoder.layers.9.fc1.weight', 'encoder.w2v_model.encoder.layers.9.fc1.bias', 'encoder.w2v_model.encoder.layers.9.fc2.weight', 'encoder.w2v_model.encoder.layers.9.fc2.bias', 'encoder.w2v_model.encoder.layers.9.final_layer_norm.weight', 'encoder.w2v_model.encoder.layers.9.final_layer_norm.bias', 'encoder.w2v_model.encoder.layers.10.self_attn.k_proj.weight', 'encoder.w2v_model.encoder.layers.10.self_attn.k_proj.bias', 'encoder.w2v_model.encoder.layers.10.self_attn.v_proj.weight', 'encoder.w2v_model.encoder.layers.10.self_attn.v_proj.bias', 'encoder.w2v_model.encoder.layers.10.self_attn.q_proj.weight', 'encoder.w2v_model.encoder.layers.10.self_attn.q_proj.bias', 'encoder.w2v_model.encoder.layers.10.self_attn.out_proj.weight', 'encoder.w2v_model.encoder.layers.10.self_attn.out_proj.bias', 'encoder.w2v_model.encoder.layers.10.self_attn_layer_norm.weight', 'encoder.w2v_model.encoder.layers.10.self_attn_layer_norm.bias', 'encoder.w2v_model.encoder.layers.10.fc1.weight', 'encoder.w2v_model.encoder.layers.10.fc1.bias', 'encoder.w2v_model.encoder.layers.10.fc2.weight', 'encoder.w2v_model.encoder.layers.10.fc2.bias', 'encoder.w2v_model.encoder.layers.10.final_layer_norm.weight', 'encoder.w2v_model.encoder.layers.10.final_layer_norm.bias', 'encoder.w2v_model.encoder.layers.11.self_attn.k_proj.weight', 'encoder.w2v_model.encoder.layers.11.self_attn.k_proj.bias', 'encoder.w2v_model.encoder.layers.11.self_attn.v_proj.weight', 'encoder.w2v_model.encoder.layers.11.self_attn.v_proj.bias', 'encoder.w2v_model.encoder.layers.11.self_attn.q_proj.weight', 'encoder.w2v_model.encoder.layers.11.self_attn.q_proj.bias', 'encoder.w2v_model.encoder.layers.11.self_attn.out_proj.weight', 'encoder.w2v_model.encoder.layers.11.self_attn.out_proj.bias', 'encoder.w2v_model.encoder.layers.11.self_attn_layer_norm.weight', 'encoder.w2v_model.encoder.layers.11.self_attn_layer_norm.bias', 'encoder.w2v_model.encoder.layers.11.fc1.weight', 'encoder.w2v_model.encoder.layers.11.fc1.bias', 'encoder.w2v_model.encoder.layers.11.fc2.weight', 'encoder.w2v_model.encoder.layers.11.fc2.bias', 'encoder.w2v_model.encoder.layers.11.final_layer_norm.weight', 'encoder.w2v_model.encoder.layers.11.final_layer_norm.bias', 'encoder.w2v_model.encoder.layer_norm.weight', 'encoder.w2v_model.encoder.layer_norm.bias', 'encoder.w2v_model.layer_norm.weight', 'encoder.w2v_model.layer_norm.bias', 'encoder.w2v_model.final_proj.weight', 'encoder.w2v_model.final_proj.bias', 'encoder.cif_proj.weight', 'encoder.cif_proj.bias', 'encoder.text_embedding.weight', 'encoder.embed_positions._float_tensor', 'encoder.transformer_layers.0.self_attn.k_proj.weight', 'encoder.transformer_layers.0.self_attn.k_proj.bias', 'encoder.transformer_layers.0.self_attn.v_proj.weight', 'encoder.transformer_layers.0.self_attn.v_proj.bias', 'encoder.transformer_layers.0.self_attn.q_proj.weight', 'encoder.transformer_layers.0.self_attn.q_proj.bias', 'encoder.transformer_layers.0.self_attn.out_proj.weight', 'encoder.transformer_layers.0.self_attn.out_proj.bias', 'encoder.transformer_layers.0.self_attn_layer_norm.weight', 'encoder.transformer_layers.0.self_attn_layer_norm.bias', 'encoder.transformer_layers.0.fc1.weight', 'encoder.transformer_layers.0.fc1.bias', 'encoder.transformer_layers.0.fc2.weight', 'encoder.transformer_layers.0.fc2.bias', 'encoder.transformer_layers.0.final_layer_norm.weight', 'encoder.transformer_layers.0.final_layer_norm.bias', 'encoder.transformer_layers.1.self_attn.k_proj.weight', 'encoder.transformer_layers.1.self_attn.k_proj.bias', 'encoder.transformer_layers.1.self_attn.v_proj.weight', 'encoder.transformer_layers.1.self_attn.v_proj.bias', 'encoder.transformer_layers.1.self_attn.q_proj.weight', 'encoder.transformer_layers.1.self_attn.q_proj.bias', 'encoder.transformer_layers.1.self_attn.out_proj.weight', 'encoder.transformer_layers.1.self_attn.out_proj.bias', 'encoder.transformer_layers.1.self_attn_layer_norm.weight', 'encoder.transformer_layers.1.self_attn_layer_norm.bias', 'encoder.transformer_layers.1.fc1.weight', 'encoder.transformer_layers.1.fc1.bias', 'encoder.transformer_layers.1.fc2.weight', 'encoder.transformer_layers.1.fc2.bias', 'encoder.transformer_layers.1.final_layer_norm.weight', 'encoder.transformer_layers.1.final_layer_norm.bias', 'encoder.transformer_layers.2.self_attn.k_proj.weight', 'encoder.transformer_layers.2.self_attn.k_proj.bias', 'encoder.transformer_layers.2.self_attn.v_proj.weight', 'encoder.transformer_layers.2.self_attn.v_proj.bias', 'encoder.transformer_layers.2.self_attn.q_proj.weight', 'encoder.transformer_layers.2.self_attn.q_proj.bias', 'encoder.transformer_layers.2.self_attn.out_proj.weight', 'encoder.transformer_layers.2.self_attn.out_proj.bias', 'encoder.transformer_layers.2.self_attn_layer_norm.weight', 'encoder.transformer_layers.2.self_attn_layer_norm.bias', 'encoder.transformer_layers.2.fc1.weight', 'encoder.transformer_layers.2.fc1.bias', 'encoder.transformer_layers.2.fc2.weight', 'encoder.transformer_layers.2.fc2.bias', 'encoder.transformer_layers.2.final_layer_norm.weight', 'encoder.transformer_layers.2.final_layer_norm.bias', 'encoder.transformer_layers.3.self_attn.k_proj.weight', 'encoder.transformer_layers.3.self_attn.k_proj.bias', 'encoder.transformer_layers.3.self_attn.v_proj.weight', 'encoder.transformer_layers.3.self_attn.v_proj.bias', 'encoder.transformer_layers.3.self_attn.q_proj.weight', 'encoder.transformer_layers.3.self_attn.q_proj.bias', 'encoder.transformer_layers.3.self_attn.out_proj.weight', 'encoder.transformer_layers.3.self_attn.out_proj.bias', 'encoder.transformer_layers.3.self_attn_layer_norm.weight', 'encoder.transformer_layers.3.self_attn_layer_norm.bias', 'encoder.transformer_layers.3.fc1.weight', 'encoder.transformer_layers.3.fc1.bias', 'encoder.transformer_layers.3.fc2.weight', 'encoder.transformer_layers.3.fc2.bias', 'encoder.transformer_layers.3.final_layer_norm.weight', 'encoder.transformer_layers.3.final_layer_norm.bias', 'encoder.transformer_layers.4.self_attn.k_proj.weight', 'encoder.transformer_layers.4.self_attn.k_proj.bias', 'encoder.transformer_layers.4.self_attn.v_proj.weight', 'encoder.transformer_layers.4.self_attn.v_proj.bias', 'encoder.transformer_layers.4.self_attn.q_proj.weight', 'encoder.transformer_layers.4.self_attn.q_proj.bias', 'encoder.transformer_layers.4.self_attn.out_proj.weight', 'encoder.transformer_layers.4.self_attn.out_proj.bias', 'encoder.transformer_layers.4.self_attn_layer_norm.weight', 'encoder.transformer_layers.4.self_attn_layer_norm.bias', 'encoder.transformer_layers.4.fc1.weight', 'encoder.transformer_layers.4.fc1.bias', 'encoder.transformer_layers.4.fc2.weight', 'encoder.transformer_layers.4.fc2.bias', 'encoder.transformer_layers.4.final_layer_norm.weight', 'encoder.transformer_layers.4.final_layer_norm.bias', 'encoder.transformer_layers.5.self_attn.k_proj.weight', 'encoder.transformer_layers.5.self_attn.k_proj.bias', 'encoder.transformer_layers.5.self_attn.v_proj.weight', 'encoder.transformer_layers.5.self_attn.v_proj.bias', 'encoder.transformer_layers.5.self_attn.q_proj.weight', 'encoder.transformer_layers.5.self_attn.q_proj.bias', 'encoder.transformer_layers.5.self_attn.out_proj.weight', 'encoder.transformer_layers.5.self_attn.out_proj.bias', 'encoder.transformer_layers.5.self_attn_layer_norm.weight', 'encoder.transformer_layers.5.self_attn_layer_norm.bias', 'encoder.transformer_layers.5.fc1.weight', 'encoder.transformer_layers.5.fc1.bias', 'encoder.transformer_layers.5.fc2.weight', 'encoder.transformer_layers.5.fc2.bias', 'encoder.transformer_layers.5.final_layer_norm.weight', 'encoder.transformer_layers.5.final_layer_norm.bias', 'encoder.layer_norm.weight', 'encoder.layer_norm.bias', 'decoder.version', 'decoder.embed_tokens.weight', 'decoder.embed_positions._float_tensor', 'decoder.layers.0.self_attn.k_proj.weight', 'decoder.layers.0.self_attn.k_proj.bias', 'decoder.layers.0.self_attn.v_proj.weight', 'decoder.layers.0.self_attn.v_proj.bias', 'decoder.layers.0.self_attn.q_proj.weight', 'decoder.layers.0.self_attn.q_proj.bias', 'decoder.layers.0.self_attn.out_proj.weight', 'decoder.layers.0.self_attn.out_proj.bias', 'decoder.layers.0.self_attn_layer_norm.weight', 'decoder.layers.0.self_attn_layer_norm.bias', 'decoder.layers.0.encoder_attn.k_proj.weight', 'decoder.layers.0.encoder_attn.k_proj.bias', 'decoder.layers.0.encoder_attn.v_proj.weight', 'decoder.layers.0.encoder_attn.v_proj.bias', 'decoder.layers.0.encoder_attn.q_proj.weight', 'decoder.layers.0.encoder_attn.q_proj.bias', 'decoder.layers.0.encoder_attn.out_proj.weight', 'decoder.layers.0.encoder_attn.out_proj.bias', 'decoder.layers.0.encoder_attn_layer_norm.weight', 'decoder.layers.0.encoder_attn_layer_norm.bias', 'decoder.layers.0.fc1.weight', 'decoder.layers.0.fc1.bias', 'decoder.layers.0.fc2.weight', 'decoder.layers.0.fc2.bias', 'decoder.layers.0.final_layer_norm.weight', 'decoder.layers.0.final_layer_norm.bias', 'decoder.layers.1.self_attn.k_proj.weight', 'decoder.layers.1.self_attn.k_proj.bias', 'decoder.layers.1.self_attn.v_proj.weight', 'decoder.layers.1.self_attn.v_proj.bias', 'decoder.layers.1.self_attn.q_proj.weight', 'decoder.layers.1.self_attn.q_proj.bias', 'decoder.layers.1.self_attn.out_proj.weight', 'decoder.layers.1.self_attn.out_proj.bias', 'decoder.layers.1.self_attn_layer_norm.weight', 'decoder.layers.1.self_attn_layer_norm.bias', 'decoder.layers.1.encoder_attn.k_proj.weight', 'decoder.layers.1.encoder_attn.k_proj.bias', 'decoder.layers.1.encoder_attn.v_proj.weight', 'decoder.layers.1.encoder_attn.v_proj.bias', 'decoder.layers.1.encoder_attn.q_proj.weight', 'decoder.layers.1.encoder_attn.q_proj.bias', 'decoder.layers.1.encoder_attn.out_proj.weight', 'decoder.layers.1.encoder_attn.out_proj.bias', 'decoder.layers.1.encoder_attn_layer_norm.weight', 'decoder.layers.1.encoder_attn_layer_norm.bias', 'decoder.layers.1.fc1.weight', 'decoder.layers.1.fc1.bias', 'decoder.layers.1.fc2.weight', 'decoder.layers.1.fc2.bias', 'decoder.layers.1.final_layer_norm.weight', 'decoder.layers.1.final_layer_norm.bias', 'decoder.layers.2.self_attn.k_proj.weight', 'decoder.layers.2.self_attn.k_proj.bias', 'decoder.layers.2.self_attn.v_proj.weight', 'decoder.layers.2.self_attn.v_proj.bias', 'decoder.layers.2.self_attn.q_proj.weight', 'decoder.layers.2.self_attn.q_proj.bias', 'decoder.layers.2.self_attn.out_proj.weight', 'decoder.layers.2.self_attn.out_proj.bias', 'decoder.layers.2.self_attn_layer_norm.weight', 'decoder.layers.2.self_attn_layer_norm.bias', 'decoder.layers.2.encoder_attn.k_proj.weight', 'decoder.layers.2.encoder_attn.k_proj.bias', 'decoder.layers.2.encoder_attn.v_proj.weight', 'decoder.layers.2.encoder_attn.v_proj.bias', 'decoder.layers.2.encoder_attn.q_proj.weight', 'decoder.layers.2.encoder_attn.q_proj.bias', 'decoder.layers.2.encoder_attn.out_proj.weight', 'decoder.layers.2.encoder_attn.out_proj.bias', 'decoder.layers.2.encoder_attn_layer_norm.weight', 'decoder.layers.2.encoder_attn_layer_norm.bias', 'decoder.layers.2.fc1.weight', 'decoder.layers.2.fc1.bias', 'decoder.layers.2.fc2.weight', 'decoder.layers.2.fc2.bias', 'decoder.layers.2.final_layer_norm.weight', 'decoder.layers.2.final_layer_norm.bias', 'decoder.layers.3.self_attn.k_proj.weight', 'decoder.layers.3.self_attn.k_proj.bias', 'decoder.layers.3.self_attn.v_proj.weight', 'decoder.layers.3.self_attn.v_proj.bias', 'decoder.layers.3.self_attn.q_proj.weight', 'decoder.layers.3.self_attn.q_proj.bias', 'decoder.layers.3.self_attn.out_proj.weight', 'decoder.layers.3.self_attn.out_proj.bias', 'decoder.layers.3.self_attn_layer_norm.weight', 'decoder.layers.3.self_attn_layer_norm.bias', 'decoder.layers.3.encoder_attn.k_proj.weight', 'decoder.layers.3.encoder_attn.k_proj.bias', 'decoder.layers.3.encoder_attn.v_proj.weight', 'decoder.layers.3.encoder_attn.v_proj.bias', 'decoder.layers.3.encoder_attn.q_proj.weight', 'decoder.layers.3.encoder_attn.q_proj.bias', 'decoder.layers.3.encoder_attn.out_proj.weight', 'decoder.layers.3.encoder_attn.out_proj.bias', 'decoder.layers.3.encoder_attn_layer_norm.weight', 'decoder.layers.3.encoder_attn_layer_norm.bias', 'decoder.layers.3.fc1.weight', 'decoder.layers.3.fc1.bias', 'decoder.layers.3.fc2.weight', 'decoder.layers.3.fc2.bias', 'decoder.layers.3.final_layer_norm.weight', 'decoder.layers.3.final_layer_norm.bias', 'decoder.layers.4.self_attn.k_proj.weight', 'decoder.layers.4.self_attn.k_proj.bias', 'decoder.layers.4.self_attn.v_proj.weight', 'decoder.layers.4.self_attn.v_proj.bias', 'decoder.layers.4.self_attn.q_proj.weight', 'decoder.layers.4.self_attn.q_proj.bias', 'decoder.layers.4.self_attn.out_proj.weight', 'decoder.layers.4.self_attn.out_proj.bias', 'decoder.layers.4.self_attn_layer_norm.weight', 'decoder.layers.4.self_attn_layer_norm.bias', 'decoder.layers.4.encoder_attn.k_proj.weight', 'decoder.layers.4.encoder_attn.k_proj.bias', 'decoder.layers.4.encoder_attn.v_proj.weight', 'decoder.layers.4.encoder_attn.v_proj.bias', 'decoder.layers.4.encoder_attn.q_proj.weight', 'decoder.layers.4.encoder_attn.q_proj.bias', 'decoder.layers.4.encoder_attn.out_proj.weight', 'decoder.layers.4.encoder_attn.out_proj.bias', 'decoder.layers.4.encoder_attn_layer_norm.weight', 'decoder.layers.4.encoder_attn_layer_norm.bias', 'decoder.layers.4.fc1.weight', 'decoder.layers.4.fc1.bias', 'decoder.layers.4.fc2.weight', 'decoder.layers.4.fc2.bias', 'decoder.layers.4.final_layer_norm.weight', 'decoder.layers.4.final_layer_norm.bias', 'decoder.layers.5.self_attn.k_proj.weight', 'decoder.layers.5.self_attn.k_proj.bias', 'decoder.layers.5.self_attn.v_proj.weight', 'decoder.layers.5.self_attn.v_proj.bias', 'decoder.layers.5.self_attn.q_proj.weight', 'decoder.layers.5.self_attn.q_proj.bias', 'decoder.layers.5.self_attn.out_proj.weight', 'decoder.layers.5.self_attn.out_proj.bias', 'decoder.layers.5.self_attn_layer_norm.weight', 'decoder.layers.5.self_attn_layer_norm.bias', 'decoder.layers.5.encoder_attn.k_proj.weight', 'decoder.layers.5.encoder_attn.k_proj.bias', 'decoder.layers.5.encoder_attn.v_proj.weight', 'decoder.layers.5.encoder_attn.v_proj.bias', 'decoder.layers.5.encoder_attn.q_proj.weight', 'decoder.layers.5.encoder_attn.q_proj.bias', 'decoder.layers.5.encoder_attn.out_proj.weight', 'decoder.layers.5.encoder_attn.out_proj.bias', 'decoder.layers.5.encoder_attn_layer_norm.weight', 'decoder.layers.5.encoder_attn_layer_norm.bias', 'decoder.layers.5.fc1.weight', 'decoder.layers.5.fc1.bias', 'decoder.layers.5.fc2.weight', 'decoder.layers.5.fc2.bias', 'decoder.layers.5.final_layer_norm.weight', 'decoder.layers.5.final_layer_norm.bias', 'decoder.layer_norm.weight', 'decoder.layer_norm.bias', 'decoder.output_projection.weight'])"
      ]
     },
     "execution_count": 39,
     "metadata": {},
     "output_type": "execute_result"
    }
   ],
   "source": [
    "model['model'].keys()"
   ]
  },
  {
   "cell_type": "code",
   "execution_count": 41,
   "metadata": {},
   "outputs": [],
   "source": [
    "embedding = model['model']['encoder.text_embedding.weight']"
   ]
  },
  {
   "cell_type": "code",
   "execution_count": 42,
   "metadata": {},
   "outputs": [
    {
     "data": {
      "text/plain": [
       "torch.Size([10000, 256])"
      ]
     },
     "execution_count": 42,
     "metadata": {},
     "output_type": "execute_result"
    }
   ],
   "source": [
    "embedding.size()"
   ]
  },
  {
   "cell_type": "code",
   "execution_count": 59,
   "metadata": {},
   "outputs": [],
   "source": [
    "text_embeddings = embedding[ids, :]"
   ]
  },
  {
   "cell_type": "code",
   "execution_count": 62,
   "metadata": {},
   "outputs": [
    {
     "data": {
      "text/plain": [
       "(26, 29)"
      ]
     },
     "execution_count": 62,
     "metadata": {},
     "output_type": "execute_result"
    }
   ],
   "source": [
    "st_feature.size(0), text_embeddings.size(0)"
   ]
  },
  {
   "cell_type": "code",
   "execution_count": 60,
   "metadata": {},
   "outputs": [],
   "source": [
    "pairwise_dist = th.zeros(st_feature.size(0), text_embeddings.size(0)).to('cuda')\n",
    "for i in range(st_feature.size(0)):\n",
    "    for j in range(text_embeddings.size(0)):\n",
    "        pairwise_dist[i, j] = th.norm(st_feature[i] - text_embeddings[j])"
   ]
  },
  {
   "cell_type": "code",
   "execution_count": 64,
   "metadata": {},
   "outputs": [
    {
     "name": "stdout",
     "output_type": "stream",
     "text": [
      "tensor(15.2085, device='cuda:0') tensor(15.6474, device='cuda:0')\n"
     ]
    }
   ],
   "source": [
    "print(pairwise_dist.diag().mean())"
   ]
  },
  {
   "cell_type": "code",
   "execution_count": 54,
   "metadata": {},
   "outputs": [],
   "source": [
    "pairwise_cosdist = th.zeros(st_feature.size(0), text_embeddings.size(0)).to('cuda')\n",
    "for i in range(st_feature.size(0)):\n",
    "    for j in range(text_embeddings.size(0)):\n",
    "        pairwise_cosdist[i, j] = (st_feature[i] * text_embeddings[j]).sum() / st_feature[i].norm() / text_embeddings[j].norm()"
   ]
  },
  {
   "cell_type": "code",
   "execution_count": 66,
   "metadata": {},
   "outputs": [
    {
     "name": "stdout",
     "output_type": "stream",
     "text": [
      "tensor(-0.0390, device='cuda:0') tensor(-0.0872, device='cuda:0')\n"
     ]
    }
   ],
   "source": [
    "print(pairwise_cosdist.diag().mean(), pairwise_cosdist.mean())"
   ]
  },
  {
   "cell_type": "code",
   "execution_count": null,
   "metadata": {},
   "outputs": [],
   "source": []
  }
 ],
 "metadata": {
  "interpreter": {
   "hash": "1ed63569fbc75b149cb111ec0bbf807e22cc69d3170684301682e3e07e717753"
  },
  "kernelspec": {
   "display_name": "Python 3.9.7 64-bit ('chimera': conda)",
   "language": "python",
   "name": "python3"
  },
  "language_info": {
   "codemirror_mode": {
    "name": "ipython",
    "version": 3
   },
   "file_extension": ".py",
   "mimetype": "text/x-python",
   "name": "python",
   "nbconvert_exporter": "python",
   "pygments_lexer": "ipython3",
   "version": "3.9.7"
  },
  "orig_nbformat": 4
 },
 "nbformat": 4,
 "nbformat_minor": 2
}
